{
 "cells": [
  {
   "cell_type": "markdown",
   "id": "f9e030d4",
   "metadata": {},
   "source": [
    "# Rule Recommendation Model for Automation"
   ]
  },
  {
   "cell_type": "markdown",
   "id": "f28df29d",
   "metadata": {},
   "source": [
    "A sector agnostic GNN-based custom rules recommendation for device management using preset internal links for personalized automation.\n",
    "\n",
    "This sample notebook shows you how to execute clean-sentiment-classification-labels Algorithm from AWS Marketplace"
   ]
  },
  {
   "cell_type": "markdown",
   "id": "b839a897",
   "metadata": {},
   "source": [
    " **Note**: This is a reference notebook and it cannot run unless you make changes suggested in the notebook."
   ]
  },
  {
   "cell_type": "markdown",
   "id": "9563c4f5",
   "metadata": {},
   "source": [
    "### Pre-requisites:"
   ]
  },
  {
   "cell_type": "markdown",
   "id": "9bf9522c",
   "metadata": {},
   "source": [
    "1. **Note**: This notebook contains elements which render correctly in Jupyter interface. Open this notebook from an Amazon SageMaker Notebook Instance or Amazon SageMaker Studio.\n",
    "2. Ensure that IAM role used has **AmazonSageMakerFullAccess**\n",
    "3. Some hands-on experience using Amazon SageMaker.\n",
    "4. To use this algorithm successfully, ensure that:  \n",
    "    A. Either your IAM role has these three permissions and you have authority to make AWS Marketplace subscriptions in the            AWS account used:  \n",
    "&nbsp;&nbsp;&nbsp;&nbsp;            a. **aws-marketplace:ViewSubscriptions**  \n",
    "&nbsp;&nbsp;&nbsp;&nbsp;            b. **aws-marketplace:Unsubscribe**  \n",
    "&nbsp;&nbsp;&nbsp;&nbsp;            c. **aws-marketplace:Subscribe**  \n",
    "    B. or your AWS account has a subscription to For Seller to update: Rule Recommendation Model for Automation.\n"
   ]
  },
  {
   "cell_type": "markdown",
   "id": "d94de5b0",
   "metadata": {},
   "source": [
    "### Contents"
   ]
  },
  {
   "cell_type": "markdown",
   "id": "70acee6c",
   "metadata": {},
   "source": [
    "1. [Subscribe to the algorithm]()\n",
    "2. [Prepare dataset]()  \n",
    "    A. [Dataset format expected by the algorithm]()  \n",
    "    B. [Configure dataset]()  \n",
    "    C. [Upload datasets to Amazon S3]()  \n",
    "3. [Execute optimization model]()  \n",
    "    A. [Set up environment]()    \n",
    "    B. [Execute model]()  \n",
    "    C. [Visualize Output]()  \n",
    "4. [Clean-up]()  \n",
    "    A. [Unsubscribe to the listing (optional))]()"
   ]
  },
  {
   "cell_type": "markdown",
   "id": "de94e6da",
   "metadata": {},
   "source": [
    "### 1. Subscribe to the algorithm"
   ]
  },
  {
   "cell_type": "markdown",
   "id": "1e1496d2",
   "metadata": {},
   "source": [
    "To subscribe to the algorithm:  \n",
    "&nbsp; 1. Open the algorithm listing page **Rule Recommendation Model for Automation**  \n",
    "&nbsp; 2. On the AWS Marketplace listing, click on **Continue to subscribe** button.  \n",
    "&nbsp; 3. On the **Subscribe to this software** page, review and click on \"**Accept Offer**\" if you agree with EULA, pricing, and support terms.  \n",
    "&nbsp; 4. Once you click on **Continue to configuration button** and then choose a **region**, you will see a **Product Arn**. This is the algorithm ARN that you need to specify while training a custom ML model. Copy the ARN corresponding to your region and specify the same in the following cell."
   ]
  },
  {
   "cell_type": "code",
   "execution_count": 1,
   "id": "7849ef59-ad2c-404d-b71b-347aaf4a82ff",
   "metadata": {
    "tags": []
   },
   "outputs": [],
   "source": [
    "algo_arn = \"your_algo_arn\""
   ]
  },
  {
   "cell_type": "markdown",
   "id": "43be978d",
   "metadata": {},
   "source": [
    "### 2. Prepare dataset"
   ]
  },
  {
   "cell_type": "code",
   "execution_count": 2,
   "id": "39bb7c60-616c-43d6-a827-8ad2657a2a51",
   "metadata": {
    "tags": []
   },
   "outputs": [
    {
     "name": "stdout",
     "output_type": "stream",
     "text": [
      "sagemaker.config INFO - Not applying SDK defaults from location: /etc/xdg/sagemaker/config.yaml\n",
      "sagemaker.config INFO - Not applying SDK defaults from location: /home/ec2-user/.config/sagemaker/config.yaml\n"
     ]
    }
   ],
   "source": [
    "import os\n",
    "import json \n",
    "import uuid\n",
    "import boto3\n",
    "import pickle\n",
    "import base64\n",
    "import tarfile\n",
    "from pprint import pprint\n",
    "from PIL import Image\n",
    "\n",
    "import numpy as np\n",
    "import pandas as pd\n",
    "\n",
    "import urllib.request\n",
    "from urllib.parse import urlparse\n",
    "\n",
    "import sagemaker as sage\n",
    "from sagemaker import ModelPackage\n",
    "from sagemaker import get_execution_role\n",
    "\n"
   ]
  },
  {
   "cell_type": "markdown",
   "id": "309dd05a",
   "metadata": {},
   "source": [
    "#### A. Dataset format expected by the algorithm"
   ]
  },
  {
   "cell_type": "markdown",
   "id": "153f2c8a",
   "metadata": {},
   "source": [
    "The algorithm needs two csv files:\n",
    "1. train_rule.csv containing details aboutthe existing rules including userid,\tTrigger device,\tTrigger deviceid\tTrigger state,\tTrigger state id,Action\taction id,Action Device, Action Device id and rule.\n",
    "2. train_devices.csv containing all the devices with user id and device id "
   ]
  },
  {
   "cell_type": "markdown",
   "id": "59928966",
   "metadata": {},
   "source": [
    "#### B. Configure dataset"
   ]
  },
  {
   "cell_type": "code",
   "execution_count": 3,
   "id": "8f3baaba-3bff-45d1-a9d7-d89b253abd02",
   "metadata": {
    "tags": []
   },
   "outputs": [],
   "source": [
    "training_dataset=\"Input/training/input_zip.zip\""
   ]
  },
  {
   "cell_type": "markdown",
   "id": "25c6472b",
   "metadata": {},
   "source": [
    "#### C. Upload datasets to Amazon S3"
   ]
  },
  {
   "cell_type": "code",
   "execution_count": 4,
   "id": "cc5c092f-3c32-405e-9625-8c96af356878",
   "metadata": {
    "tags": []
   },
   "outputs": [],
   "source": [
    "role = get_execution_role()"
   ]
  },
  {
   "cell_type": "code",
   "execution_count": null,
   "id": "94021442-04e2-4a1d-9341-d8f865d40242",
   "metadata": {
    "tags": []
   },
   "outputs": [],
   "source": [
    "sagemaker_session = sage.Session()\n",
    "\n",
    "bucket = sagemaker_session.default_bucket()\n",
    "bucket"
   ]
  },
  {
   "cell_type": "code",
   "execution_count": null,
   "id": "f868b73a-84a2-42f3-883e-58c280849af7",
   "metadata": {
    "tags": []
   },
   "outputs": [],
   "source": [
    "# training input location\n",
    "common_prefix = \"rule-recommendation-engine-for-automation\"\n",
    "training_input_prefix = common_prefix + \"/training-input-data\"\n",
    "TRAINING_WORKDIR = \"Input\" #Input directory in Jupyter Server\n",
    "training_input = sagemaker_session.upload_data(TRAINING_WORKDIR, key_prefix=training_input_prefix) #uploads data from jupyter server to S3\n",
    "print(\"Training input uploaded to \" + training_input)"
   ]
  },
  {
   "cell_type": "markdown",
   "id": "48895d28",
   "metadata": {},
   "source": [
    "### 3. Execute the training process"
   ]
  },
  {
   "cell_type": "markdown",
   "id": "192aa4a3",
   "metadata": {},
   "source": [
    "Now that dataset is available in an accessible Amazon S3 bucket, we are ready to execute a training pipeline to get clean sentiment class labels using clean-sentiment-classification-labels Algorithm."
   ]
  },
  {
   "cell_type": "markdown",
   "id": "7bf151a3",
   "metadata": {},
   "source": [
    "#### 3.1 Set up environment"
   ]
  },
  {
   "cell_type": "code",
   "execution_count": 7,
   "id": "d3b7b797-75dc-4e7c-8bf0-b7c3ad5d4e76",
   "metadata": {
    "tags": []
   },
   "outputs": [],
   "source": [
    "output_location = 's3://{}/rule-recommendation-engine-for-automation/{}'.format(bucket, 'Output')"
   ]
  },
  {
   "cell_type": "markdown",
   "id": "e3a27562",
   "metadata": {},
   "source": [
    "#### 3.2 Execute model"
   ]
  },
  {
   "cell_type": "markdown",
   "id": "faaa03f6",
   "metadata": {},
   "source": [
    "For information on creating an Estimator object, see [documentation](https://sagemaker.readthedocs.io/en/stable/api/training/estimators.html)"
   ]
  },
  {
   "cell_type": "code",
   "execution_count": 8,
   "id": "fdd632db-e9f1-4805-b6f8-21de1f9d4367",
   "metadata": {
    "tags": []
   },
   "outputs": [],
   "source": [
    "training_instance_type=\"ml.m5.4xlarge\""
   ]
  },
  {
   "cell_type": "code",
   "execution_count": null,
   "id": "f2ff4fff-503f-4944-9518-c4a3c0c709f4",
   "metadata": {
    "tags": []
   },
   "outputs": [
    {
     "name": "stderr",
     "output_type": "stream",
     "text": [
      "INFO:sagemaker:Creating training-job with name: rule-recommendation-engine-for-automati-2024-08-05-04-02-13-072\n"
     ]
    },
    {
     "name": "stdout",
     "output_type": "stream",
     "text": [
      "2024-08-05 04:02:16 Starting - Starting the training job...\n",
      "2024-08-05 04:02:31 Starting - Preparing the instances for training...\n",
      "2024-08-05 04:03:00 Downloading - Downloading the training image......\n",
      "2024-08-05 04:04:00 Training - Training image download completed. Training in progress.....\u001b[34mtraininf file sent to main\u001b[0m\n",
      "\u001b[34mStart loading data...\u001b[0m\n",
      "\u001b[34mData loaded\u001b[0m\n",
      "\u001b[34mNumber of rules: 852072\u001b[0m\n",
      "\u001b[34mNumber of devices: 1354098\u001b[0m\n",
      "\u001b[34mFiltering rules with fewer than 25 occurrences\u001b[0m\n",
      "\u001b[34mAggregating devices by user\u001b[0m\n",
      "\u001b[34mAggregating rules by user\u001b[0m\n",
      "\u001b[34m#0150it [00:00, ?it/s]#0151it [00:00,  5.05it/s]#0151462it [00:00, 6125.09it/s]#0152936it [00:00, 9350.85it/s]#0154567it [00:00, 11773.42it/s]#0156197it [00:00, 13275.81it/s]#0157821it [00:00, 14229.45it/s]#0159455it [00:00, 14893.54it/s]#01511090it [00:00, 15343.03it/s]#01512726it [00:00, 15652.70it/s]#01514355it [00:01, 15845.12it/s]#01515990it [00:01, 15996.44it/s]#01517622it [00:01, 16093.49it/s]#01519257it [00:01, 16169.70it/s]#01520886it [00:01, 16205.21it/s]#01522522it [00:01, 16249.82it/s]#01524159it [00:01, 16284.07it/s]#01525790it [00:01, 16288.65it/s]#01527425it [00:01, 16304.87it/s]#01529059it [00:01, 16312.61it/s]#01530695it [00:02, 16325.22it/s]#01532329it [00:02, 16304.89it/s]#01533963it [00:02, 16313.39it/s]#01535595it [00:02, 16303.74it/s]#01537230it [00:02, 16315.96it/s]#01538862it [00:02, 16305.67it/s]#01540495it [00:02, 16311.75it/s]#01542128it [00:02, 16315.06it/s]#01543760it [00:02, 16308.37it/s]#01545391it [00:03, 16291.49it/s]#01547027it [00:03, 16310.26it/s]#01548661it [00:03, 16317.07it/s]#01550293it [00:03, 16299.36it/s]#01551928it [00:03, 16312.22it/s]#01553561it [00:03, 16315.60it/s]#01555193it [00:03, 16292.06it/s]#01556823it [00:03, 16257.08it/s]#01558449it [00:03, 16247.55it/s]#01560075it [00:03, 16250.25it/s]#01561701it [00:04, 16245.66it/s]#01563326it [00:04, 16223.17it/s]#01564953it [00:04, 16234.60it/s]#01566581it [00:04, 16247.16it/s]#01568206it [00:04, 16225.07it/s]#01569834it [00:04, 16239.51it/s]#01571463it [00:04, 16252.16it/s]#01573090it [00:04, 16256.03it/s]#01574716it [00:04, 16231.09it/s]#01576340it [00:04, 16231.97it/s]#01577966it [00:05, 16239.57it/s]#01579592it [00:05, 16244.49it/s]#01581217it [00:05, 16226.18it/s]#01582842it [00:05, 16232.78it/s]#01584466it [00:05, 16234.21it/s]#01586090it [00:05, 16235.66it/s]#01587714it [00:05, 16216.65it/s]#01589340it [00:05, 16229.25it/s]#01590963it [00:05, 16228.48it/s]#01592586it [00:05, 16223.74it/s]#01594212it [00:06, 16231.99it/s]#01595840it [00:06, 16243.89it/s]#01597465it [00:06, 16242.35it/s]#01599090it [00:06, 16229.76it/s]#015100716it [00:06, 16237.39it/s]#015102342it [00:06, 16244.01it/s]#015103967it [00:06, 16244.61it/s]#015105592it [00:06, 16234.26it/s]#015107219it [00:06, 16243.35it/s]#015108846it [00:06, 16248.64it/s]#015110471it [00:07, 16247.91it/s]#015112096it [00:07, 16224.29it/s]#015113720it [00:07, 16226.24it/s]#015115345it [00:07, 16232.51it/s]#015116970it [00:07, 16235.24it/s]#015118594it [00:07, 16229.12it/s]#015120222it [00:07, 16242.05it/s]#015121847it [00:07, 16235.77it/s]#015123471it [00:07, 16220.18it/s]#015125095it [00:07, 16224.41it/s]#015126721it [00:08, 16233.54it/s]#015128346it [00:08, 16235.98it/s]#015129970it [00:08, 16223.19it/s]#015131593it [00:08, 16218.40it/s]#015133216it [00:08, 16220.19it/s]#015134842it [00:08, 16231.52it/s]#015136466it [00:08, 16212.94it/s]#015138093it [00:08, 16227.61it/s]#015139718it [00:08, 16231.32it/s]#015141347it [00:08, 16245.98it/s]#015142972it [00:09, 16231.41it/s]#015144598it [00:09, 16238.44it/s]#015146224it [00:09, 16242.44it/s]#015147849it [00:09, 16242.54it/s]#015149474it [00:09, 16200.64it/s]#015151097it [00:09, 16208.71it/s]#015152722it [00:09, 16218.49it/s]#015154344it [00:09, 16215.77it/s]#015155966it [00:09, 16196.34it/s]#015157591it [00:09, 16209.37it/s]#015159215it [00:10, 16215.74it/s]#015160842it [00:10, 16230.25it/s]#015162466it [00:10, 16226.61it/s]#015164090it [00:10, 16228.72it/s]#015165715it [00:10, 16234.43it/s]#015167339it [00:10, 16223.42it/s]#015168965it [00:10, 16231.29it/s]#015170589it [00:10, 16232.25it/s]#015172213it [00:10, 16231.12it/s]#015173837it [00:10, 16224.94it/s]#015175465it [00:11, 16240.65it/s]#015177091it [00:11, 16245.58it/s]#015178720it [00:11, 16255.63it/s]#015180346it [00:11, 16226.76it/s]#015181972it [00:11, 16234.13it/s]#015183598it [00:11, 16241.09it/s]#015185225it [00:11, 16248.40it/s]#015186850it [00:11, 16246.56it/s]#015188479it [00:11, 16257.65it/s]#015190106it [00:11, 16259.63it/s]#015191732it [00:12, 16254.43it/s]#015193358it [00:12, 16233.67it/s]#015194984it [00:12, 16239.88it/s]#015196610it [00:12, 16244.44it/s]#015198236it [00:12, 16246.87it/s]#015199861it [00:12, 16233.07it/s]#015201486it [00:12, 16237.04it/s]#015203111it [00:12, 16239.34it/s]#015204736it [00:12, 16242.16it/s]#015206361it [00:12, 16214.59it/s]#015207983it [00:13, 16213.71it/s]#015209605it [00:13, 16211.98it/s]#015211229it [00:13, 16219.97it/s]#015212852it [00:13, 16204.03it/s]#015214476it [00:13, 16212.75it/s]#015216101it [00:13, 16223.64it/s]#015217731it [00:13, 16244.05it/s]#015219356it [00:13, 16236.69it/s]#015220980it [00:13, 16236.72it/s]#015222605it [00:13, 16237.98it/s]#015224232it [00:14, 16247.23it/s]#015225857it [00:14, 16206.99it/s]#015227485it [00:14, 16226.05it/s]#015229110it [00:14, 16232.08it/s]#015230734it [00:14, 16171.66it/s]#015232359it [00:14, 16194.50it/s]#015233986it [00:14, 16216.14it/s]#015235613it [00:14, 16230.46it/s]#015237237it [00:14, 16221.72it/s]#015238867it [00:14, 16244.65it/s]#015240497it [00:15, 16259.72it/s]#015242125it [00:15, 16262.94it/s]#015243752it [00:15, 16229.52it/s]#015245376it [00:15, 16231.98it/s]#015247005it [00:15, 16246.74it/s]#015248630it [00:15, 16245.40it/s]#015250255it [00:15, 16238.48it/s]#015251884it [00:15, 16252.51it/s]#015253510it [00:15, 16233.48it/s]#015255135it [00:15, 16236.58it/s]#015256759it [00:16, 16225.76it/s]#015258388it [00:16, 16243.63it/s]#015260015it [00:16, 16250.41it/s]#015261641it [00:16, 16243.05it/s]#015263266it [00:16, 16221.75it/s]#015264894it [00:16, 16238.61it/s]#015266522it [00:16, 16248.88it/s]#015268150it [00:16, 16256.11it/s]#015269776it [00:16, 16242.47it/s]#015271401it [00:16, 16237.69it/s]#015273025it [00:17, 16227.88it/s]#015274648it [00:17, 16223.21it/s]#015276271it [00:17, 16202.46it/s]#015277895it [00:17, 16211.23it/s]#015279523it [00:17, 16229.63it/s]#015281149it [00:17, 16237.70it/s]#015282773it [00:17, 16223.85it/s]#015284396it [00:17, 16196.78it/s]#015286016it [00:17, 16189.28it/s]#015287635it [00:17, 16185.05it/s]#015289254it [00:18, 16175.14it/s]#015290877it [00:18, 16190.41it/s]#015292502it [00:18, 16206.89it/s]#015294129it [00:18, 16224.07it/s]#015295752it [00:18, 16205.12it/s]#015297379it [00:18, 16222.52it/s]#015299002it [00:18, 16223.33it/s]#015300625it [00:18, 16219.23it/s]#015302247it [00:18, 16203.25it/s]#015303869it [00:18, 16206.97it/s]#015305498it [00:19, 16229.47it/s]#015307124it [00:19, 16236.48it/s]#015308748it [00:19, 16232.22it/s]#015310372it [00:19, 16229.48it/s]#015311998it [00:19, 16236.92it/s]#015313626it [00:19, 16247.21it/s]#015315251it [00:19, 16224.66it/s]#015316876it [00:19, 16230.66it/s]#015318505it [00:19, 16247.09it/s]#015320134it [00:19, 16259.17it/s]#015321760it [00:20, 16227.67it/s]#015323386it [00:20, 16234.22it/s]#015325014it [00:20, 16246.60it/s]#015326639it [00:20, 16241.02it/s]#015328264it [00:20, 16205.78it/s]#015329892it [00:20, 16225.33it/s]#015331522it [00:20, 16246.31it/s]#015333147it [00:20, 16222.59it/s]#015334770it [00:20, 16219.64it/s]#015336400it [00:20, 16241.69it/s]#015338029it [00:21, 16254.02it/s]#015339656it [00:21, 16258.11it/s]#015341282it [00:21, 16229.08it/s]#015342907it [00:21, 16233.08it/s]#015344531it [00:21, 16232.53it/s]#015346155it [00:21, 16220.88it/s]#015347785it [00:21, 16243.05it/s]#015349416it [00:21, 16260.79it/s]#015351044it [00:21, 16264.50it/s]#015352671it [00:21, 16246.31it/s]#015354296it [00:22, 16242.10it/s]#015355924it [00:22, 16252.36it/s]#015357552it [00:22, 16258.45it/s]#015359178it [00:22, 16243.59it/s]#015360803it [00:22, 16243.18it/s]#015362431it [00:22, 16251.04it/s]#015364057it [00:22, 16247.19it/s]#015365682it [00:22, 16236.59it/s]#015367306it [00:22, 16232.86it/s]#015368936it [00:22, 16250.69it/s]#015370562it [00:23, 16252.90it/s]#015372188it [00:23, 16241.82it/s]#015373816it [00:23, 16251.32it/s]#015375442it [00:23, 16253.12it/s]#015377071it [00:23, 16261.19it/s]#015378698it [00:23, 16242.67it/s]#015380326it [00:23, 16253.65it/s]#015381954it [00:23, 16260.80it/s]#015383582it [00:23, 16265.55it/s]#015385209it [00:23, 16232.04it/s]#015386835it [00:24, 16238.34it/s]#015388459it [00:24, 16235.96it/s]#015390086it [00:24, 16245.08it/s]#015391711it [00:24, 16232.49it/s]#015393335it [00:24, 16233.96it/s]#015394959it [00:24, 16235.52it/s]#015396587it [00:24, 16246.34it/s]#015398212it [00:24, 16223.63it/s]#015399840it [00:24, 16238.76it/s]#015401468it [00:24, 16249.88it/s]#015403094it [00:25, 16251.04it/s]#015404720it [00:25, 16239.28it/s]#015406349it [00:25, 16252.85it/s]#015407978it [00:25, 16261.01it/s]#015409605it [00:25, 16261.43it/s]#015411232it [00:25, 16246.38it/s]#015412857it [00:25, 16244.80it/s]#015414486it [00:25, 16257.00it/s]#015416115it [00:25, 16263.78it/s]#015417742it [00:25, 16263.36it/s]#015419369it [00:26, 16251.69it/s]#015420999it [00:26, 16265.57it/s]#015422632it [00:26, 16283.68it/s]#015424261it [00:26, 16283.33it/s]#015425890it [00:26, 16267.38it/s]#015427521it [00:26, 16277.17it/s]#015429151it [00:26, 16283.27it/s]#015430780it [00:26, 16277.21it/s]#015432408it [00:26, 16252.46it/s]#015434038it [00:26, 16265.30it/s]#015435668it [00:27, 16275.15it/s]#015437296it [00:27, 16273.03it/s]#015438924it [00:27, 16244.31it/s]#015440549it [00:27, 16242.13it/s]#015442174it [00:27, 16241.71it/s]#015443802it [00:27, 16252.86it/s]#015445428it [00:27, 16244.81it/s]#015447057it [00:27, 16256.07it/s]#015448683it [00:27, 16253.91it/s]#015450312it [00:27, 16264.14it/s]#015451939it [00:28, 16249.35it/s]#015453567it [00:28, 16256.85it/s]#015455197it [00:28, 16268.68it/s]#015456826it [00:28, 16273.74it/s]#015458454it [00:28, 16250.40it/s]#015460081it [00:28, 16253.83it/s]#015461711it [00:28, 16263.91it/s]#015463340it [00:28, 16269.35it/s]#015464967it [00:28, 16252.81it/s]#015466593it [00:28, 16251.27it/s]#015468219it [00:29, 16242.81it/s]#015469844it [00:29, 16243.27it/s]#015471469it [00:29, 16238.20it/s]#015473097it [00:29, 16248.60it/s]#015474724it [00:29, 16254.45it/s]#015476354it [00:29, 16265.62it/s]#015477981it [00:29, 16257.90it/s]#015479612it [00:29, 16271.58it/s]#015481242it [00:29, 16278.56it/s]#015482871it [00:29, 16279.65it/s]#015484499it [00:30, 16247.61it/s]#015486127it [00:30, 16255.09it/s]#015487757it [00:30, 16268.29it/s]#015489387it [00:30, 16275.07it/s]#015491015it [00:30, 16238.18it/s]#015492642it [00:30, 16245.86it/s]#015494267it [00:30, 16243.52it/s]#015495895it [00:30, 16253.73it/s]#015497521it [00:30, 16232.03it/s]#015499147it [00:30, 16239.79it/s]#015500771it [00:31, 16227.72it/s]#015502398it [00:31, 16239.83it/s]#015504022it [00:31, 16235.18it/s]#015505649it [00:31, 16243.41it/s]#015507274it [00:31, 16236.04it/s]#015508904it [00:31, 16253.22it/s]#015510530it [00:31, 16242.17it/s]#015512159it [00:31, 16255.77it/s]#015513787it [00:31, 16261.22it/s]#015515415it [00:31, 16265.11it/s]#015517042it [00:32, 16242.87it/s]#015518667it [00:32, 16241.89it/s]#015520294it [00:32, 16248.26it/s]#015521923it [00:32, 16258.80it/s]#015523549it [00:32, 16222.98it/s]#015525173it [00:32, 16226.58it/s]#015526803it [00:32, 16246.05it/s]#015528430it [00:32, 16249.91it/s]#015530055it [00:32, 16220.93it/s]#015531678it [00:32, 16218.80it/s]#015533303it [00:33, 16225.06it/s]#015534928it [00:33, 16231.68it/s]#015536552it [00:33, 16230.63it/s]#015538176it [00:33, 16232.59it/s]#015539804it [00:33, 16245.14it/s]#015541432it [00:33, 16253.49it/s]#015543058it [00:33, 16239.67it/s]#015544682it [00:33, 16237.22it/s]#015546308it [00:33, 16241.91it/s]#015547933it [00:33, 16238.75it/s]#015549558it [00:34, 16241.45it/s]#015551183it [00:34, 16225.75it/s]#015552808it [00:34, 16231.91it/s]#015554434it [00:34, 16239.40it/s]#015556060it [00:34, 16242.47it/s]#015557685it [00:34, 16215.35it/s]#015559310it [00:34, 16225.41it/s]#015560933it [00:34, 16221.97it/s]#015562558it [00:34, 16229.43it/s]#015564181it [00:34, 16220.36it/s]#015565806it [00:35, 16227.90it/s]#015567431it [00:35, 16231.92it/s]#015569059it [00:35, 16244.11it/s]#015570684it [00:35, 16230.52it/s]#015572308it [00:35, 16230.29it/s]#015573932it [00:35, 16232.65it/s]#015575560it [00:35, 16245.39it/s]#015577185it [00:35, 16239.30it/s]#015578809it [00:35, 16237.19it/s]#015580433it [00:35, 16229.29it/s]#015582059it [00:36, 16238.01it/s]#015583683it [00:36, 16228.14it/s]#015585309it [00:36, 16236.90it/s]#015586933it [00:36, 16236.07it/s]#015588559it [00:36, 16240.21it/s]#015590184it [00:36, 16215.05it/s]#015591811it [00:36, 16228.83it/s]#015593439it [00:36, 16241.12it/s]#015595066it [00:36, 16247.11it/s]#015596691it [00:36, 16237.36it/s]#015598316it [00:37, 16239.69it/s]#015599942it [00:37, 16243.35it/s]#015601568it [00:37, 16247.14it/s]#015603193it [00:37, 16232.44it/s]#015604817it [00:37, 16231.33it/s]#015606441it [00:37, 16231.37it/s]#015608070it [00:37, 16248.35it/s]#015609695it [00:37, 16244.29it/s]#015611320it [00:37, 16229.48it/s]#015612946it [00:37, 16236.97it/s]#015614574it [00:38, 16248.91it/s]#015616199it [00:38, 16245.63it/s]#015617824it [00:38, 16243.96it/s]#015619450it [00:38, 16246.02it/s]#015621075it [00:38, 16241.57it/s]#015622700it [00:38, 16243.72it/s]#015624325it [00:38, 16234.43it/s]#015625955it [00:38, 16251.21it/s]#015627583it [00:38, 16256.83it/s]#015629210it [00:38, 16257.71it/s]#015630836it [00:39, 16232.87it/s]#015632460it [00:39, 16234.79it/s]#015634086it [00:39, 16241.87it/s]#015635712it [00:39, 16246.42it/s]#015637337it [00:39, 16240.80it/s]#015638965it [00:39, 16250.95it/s]#015640595it [00:39, 16264.48it/s]#015642225it [00:39, 16272.30it/s]#015643853it [00:39, 16254.87it/s]#015645480it [00:39, 16256.28it/s]#015647106it [00:40, 16247.18it/s]#015648731it [00:40, 16244.94it/s]#015650356it [00:40, 16223.25it/s]#015651982it [00:40, 16231.94it/s]#015653606it [00:40, 16233.27it/s]#015655234it [00:40, 16244.48it/s]#015656859it [00:40, 16230.89it/s]#015658483it [00:40, 16232.29it/s]#015660107it [00:40, 16231.82it/s]#015661733it [00:40, 16240.06it/s]#015663358it [00:41, 16225.30it/s]#015664982it [00:41, 16226.33it/s]#015666609it [00:41, 16236.77it/s]#015668238it [00:41, 16250.24it/s]#015669864it [00:41, 16238.86it/s]#015671492it [00:41, 16249.72it/s]#015673117it [00:41, 16249.56it/s]#015674747it [00:41, 16264.12it/s]#015676379it [00:41, 16277.98it/s]#015678007it [00:41, 16263.45it/s]#015679634it [00:42, 16248.11it/s]#015681259it [00:42, 16246.85it/s]#015682884it [00:42, 16244.14it/s]#015684509it [00:42, 16225.17it/s]#015686133it [00:42, 16227.95it/s]#015687761it [00:42, 16242.89it/s]#015689388it [00:42, 16250.27it/s]#015691014it [00:42, 16237.33it/s]#015692641it [00:42, 16245.96it/s]#015694270it [00:42, 16256.70it/s]#015695898it [00:43, 16261.26it/s]#015697525it [00:43, 16257.34it/s]#015699151it [00:43, 16252.96it/s]#015700777it [00:43, 16238.68it/s]#015702401it [00:43, 16231.97it/s]#015704025it [00:43, 16206.57it/s]#015705646it [00:43, 16191.71it/s]#015707267it [00:43, 16196.74it/s]#015708887it [00:43, 16185.33it/s]#015710506it [00:43, 16175.08it/s]#015712124it [00:44, 16171.42it/s]#015713744it [00:44, 16179.52it/s]#015715362it [00:44, 16169.13it/s]#015716985it [00:44, 16185.94it/s]#015718606it [00:44, 16191.15it/s]#015720226it [00:44, 16168.59it/s]#015721850it [00:44, 16187.99it/s]#015723472it [00:44, 16196.26it/s]#015725093it [00:44, 16197.07it/s]#015726713it [00:44, 16173.17it/s]#015728334it [00:45, 16183.80it/s]#015729954it [00:45, 16187.06it/s]#015731573it [00:45, 16173.06it/s]#015733192it [00:45, 16176.14it/s]#015734815it [00:45, 16191.91it/s]#015736440it [00:45, 16208.86it/s]#015738061it [00:45, 16177.65it/s]#015739680it [00:45, 16180.10it/s]#015741299it [00:45, 16177.15it/s]#015742917it [00:45, 16101.03it/s]#015744534it [00:46, 16120.11it/s]#015746154it [00:46, 16141.98it/s]#015747774it [00:46, 16157.65it/s]#015749390it [00:46, 16158.02it/s]#015751010it [00:46, 16167.58it/s]#015752631it [00:46, 16177.65it/s]#015754249it [00:46, 16170.82it/s]#015755871it [00:46, 16182.45it/s]#015757490it [00:46, 16184.29it/s]#015759110it [00:46, 16188.71it/s]#015760729it [00:47, 16169.27it/s]#015762353it [00:47, 16188.12it/s]#015763972it [00:47, 16185.87it/s]#015765591it [00:47, 16131.23it/s]#015767212it [00:47, 16153.27it/s]#015768836it [00:47, 16176.98it/s]#015770454it [00:47, 16147.66it/s]#015772071it [00:47, 16152.46it/s]#015773687it [00:47, 16148.31it/s]#015775306it [00:47, 16158.21it/s]#015776922it [00:48, 16119.45it/s]#015778541it [00:48, 16139.11it/s]#015780162it [00:48, 16158.23it/s]#015781781it [00:48, 16167.42it/s]#015783398it [00:48, 16150.99it/s]#015785018it [00:48, 16164.67it/s]#015786635it [00:48, 16165.67it/s]#015788252it [00:48, 16150.66it/s]#015789872it [00:48, 16165.24it/s]#015791489it [00:48, 16154.01it/s]#015793107it [00:49, 16161.26it/s]#015794724it [00:49, 16146.94it/s]#015796342it [00:49, 16156.68it/s]#015797961it [00:49, 16165.37it/s]#015799578it [00:49, 16154.39it/s]#015801197it [00:49, 16164.39it/s]#015802816it [00:49, 16170.83it/s]#015804435it [00:49, 16174.11it/s]#015806053it [00:49, 16155.23it/s]#015807672it [00:49, 16165.51it/s]#015809289it [00:50, 16145.41it/s]#015810904it [00:50, 16133.29it/s]#015812524it [00:50, 16151.89it/s]#015814141it [00:50, 16157.15it/s]#015815758it [00:50, 16158.42it/s]#015817374it [00:50, 16127.04it/s]#015818992it [00:50, 16140.86it/s]#015820609it [00:50, 16147.92it/s]#015822224it [00:50, 16142.59it/s]#015823839it [00:50, 16140.86it/s]#015825454it [00:51, 16110.64it/s]#015827073it [00:51, 16131.40it/s]#015828687it [00:51, 16122.17it/s]#015830300it [00:51, 16122.87it/s]#015831913it [00:51, 16099.65it/s]#015833529it [00:51, 16114.92it/s]#015835141it [00:51, 16109.24it/s]#015836752it [00:51, 16104.37it/s]#015838366it [00:51, 16113.78it/s]#015839978it [00:51, 16078.85it/s]#015841590it [00:52, 16088.92it/s]#015843199it [00:52, 16084.06it/s]#015844809it [00:52, 16088.48it/s]#015846418it [00:52, 16020.91it/s]#015848029it [00:52, 16044.52it/s]#015849634it [00:52, 16035.86it/s]#015851238it [00:52, 16029.54it/s]#015852072it [00:52, 16159.88it/s]\u001b[0m\n"
     ]
    },
    {
     "name": "stdout",
     "output_type": "stream",
     "text": [
      "\u001b[34m#015Epoch 1/1:   0%|          | 0/424 [00:00<?, ?batch/s]#015Epoch 1/1:   0%|          | 0/424 [00:00<?, ?batch/s, Loss=0.695]#015Epoch 1/1:   0%|          | 1/424 [00:00<01:18,  5.38batch/s, Loss=0.695]#015Epoch 1/1:   0%|          | 1/424 [00:00<01:18,  5.38batch/s, Loss=0.685]#015Epoch 1/1:   0%|          | 2/424 [00:00<01:05,  6.41batch/s, Loss=0.685]#015Epoch 1/1:   0%|          | 2/424 [00:00<01:05,  6.41batch/s, Loss=0.678]#015Epoch 1/1:   1%|          | 3/424 [00:00<01:03,  6.67batch/s, Loss=0.678]#015Epoch 1/1:   1%|          | 3/424 [00:00<01:03,  6.67batch/s, Loss=0.668]#015Epoch 1/1:   1%|          | 4/424 [00:00<01:01,  6.86batch/s, Loss=0.668]#015Epoch 1/1:   1%|          | 4/424 [00:00<01:01,  6.86batch/s, Loss=0.66] #015Epoch 1/1:   1%|          | 5/424 [00:00<00:59,  7.05batch/s, Loss=0.66]#015Epoch 1/1:   1%|          | 5/424 [00:00<00:59,  7.05batch/s, Loss=0.646]#015Epoch 1/1:   1%|▏         | 6/424 [00:00<00:58,  7.20batch/s, Loss=0.646]#015Epoch 1/1:   1%|▏         | 6/424 [00:01<00:58,  7.20batch/s, Loss=0.63] #015Epoch 1/1:   2%|▏         | 7/424 [00:01<00:58,  7.18batch/s, Loss=0.63]#015Epoch 1/1:   2%|▏         | 7/424 [00:01<00:58,  7.18batch/s, Loss=0.619]#015Epoch 1/1:   2%|▏         | 8/424 [00:01<00:57,  7.28batch/s, Loss=0.619]#015Epoch 1/1:   2%|▏         | 8/424 [00:01<00:57,  7.28batch/s, Loss=0.599]#015Epoch 1/1:   2%|▏         | 9/424 [00:01<00:56,  7.36batch/s, Loss=0.599]#015Epoch 1/1:   2%|▏         | 9/424 [00:01<00:56,  7.36batch/s, Loss=0.586]#015Epoch 1/1:   2%|▏         | 10/424 [00:01<00:56,  7.37batch/s, Loss=0.586]#015Epoch 1/1:   2%|▏         | 10/424 [00:01<00:56,  7.37batch/s, Loss=0.572]#015Epoch 1/1:   3%|▎         | 11/424 [00:01<00:55,  7.43batch/s, Loss=0.572]#015Epoch 1/1:   3%|▎         | 11/424 [00:01<00:55,  7.43batch/s, Loss=0.556]#015Epoch 1/1:   3%|▎         | 12/424 [00:01<00:55,  7.43batch/s, Loss=0.556]#015Epoch 1/1:   3%|▎         | 12/424 [00:01<00:55,  7.43batch/s, Loss=0.529]#015Epoch 1/1:   3%|▎         | 13/424 [00:01<00:55,  7.45batch/s, Loss=0.529]#015Epoch 1/1:   3%|▎         | 13/424 [00:01<00:55,  7.45batch/s, Loss=0.495]#015Epoch 1/1:   3%|▎         | 14/424 [00:01<00:54,  7.46batch/s, Loss=0.495]#015Epoch 1/1:   3%|▎         | 14/424 [00:02<00:54,  7.46batch/s, Loss=0.48] #015Epoch 1/1:   4%|▎         | 15/424 [00:02<00:54,  7.44batch/s, Loss=0.48]#015Epoch 1/1:   4%|▎         | 15/424 [00:02<00:54,  7.44batch/s, Loss=0.512]#015Epoch 1/1:   4%|▍         | 16/424 [00:02<00:55,  7.38batch/s, Loss=0.512]#015Epoch 1/1:   4%|▍         | 16/424 [00:02<00:55,  7.38batch/s, Loss=0.448]#015Epoch 1/1:   4%|▍         | 17/424 [00:02<00:55,  7.39batch/s, Loss=0.448]#015Epoch 1/1:   4%|▍         | 17/424 [00:02<00:55,  7.39batch/s, Loss=0.414]#015Epoch 1/1:   4%|▍         | 18/424 [00:02<00:54,  7.47batch/s, Loss=0.414]#015Epoch 1/1:   4%|▍         | 18/424 [00:02<00:54,  7.47batch/s, Loss=0.413]#015Epoch 1/1:   4%|▍         | 19/424 [00:02<00:54,  7.46batch/s, Loss=0.413]#015Epoch 1/1:   4%|▍         | 19/424 [00:02<00:54,  7.46batch/s, Loss=0.352]#015Epoch 1/1:   5%|▍         | 20/424 [00:02<00:54,  7.48batch/s, Loss=0.352]#015Epoch 1/1:   5%|▍         | 20/424 [00:02<00:54,  7.48batch/s, Loss=0.352]#015Epoch 1/1:   5%|▍         | 21/424 [00:02<00:53,  7.52batch/s, Loss=0.352]#015Epoch 1/1:   5%|▍         | 21/424 [00:03<00:53,  7.52batch/s, Loss=0.433]#015Epoch 1/1:   5%|▌         | 22/424 [00:03<00:53,  7.50batch/s, Loss=0.433]#015Epoch 1/1:   5%|▌         | 22/424 [00:03<00:53,  7.50batch/s, Loss=0.353]#015Epoch 1/1:   5%|▌         | 23/424 [00:03<00:53,  7.55batch/s, Loss=0.353]#015Epoch 1/1:   5%|▌         | 23/424 [00:03<00:53,  7.55batch/s, Loss=0.35] #015Epoch 1/1:   6%|▌         | 24/424 [00:03<00:54,  7.40batch/s, Loss=0.35]#015Epoch 1/1:   6%|▌         | 24/424 [00:03<00:54,  7.40batch/s, Loss=0.319]#015Epoch 1/1:   6%|▌         | 25/424 [00:03<00:53,  7.46batch/s, Loss=0.319]#015Epoch 1/1:   6%|▌         | 25/424 [00:03<00:53,  7.46batch/s, Loss=0.362]#015Epoch 1/1:   6%|▌         | 26/424 [00:03<00:54,  7.36batch/s, Loss=0.362]#015Epoch 1/1:   6%|▌         | 26/424 [00:03<00:54,  7.36batch/s, Loss=0.297]#015Epoch 1/1:   6%|▋         | 27/424 [00:03<00:54,  7.30batch/s, Loss=0.297]#015Epoch 1/1:   6%|▋         | 27/424 [00:03<00:54,  7.30batch/s, Loss=0.306]#015Epoch 1/1:   7%|▋         | 28/424 [00:03<00:53,  7.42batch/s, Loss=0.306]#015Epoch 1/1:   7%|▋         | 28/424 [00:03<00:53,  7.42batch/s, Loss=0.326]#015Epoch 1/1:   7%|▋         | 29/424 [00:03<00:53,  7.44batch/s, Loss=0.326]#015Epoch 1/1:   7%|▋         | 29/424 [00:04<00:53,  7.44batch/s, Loss=0.332]#015Epoch 1/1:   7%|▋         | 30/424 [00:04<00:52,  7.48batch/s, Loss=0.332]#015Epoch 1/1:   7%|▋         | 30/424 [00:04<00:52,  7.48batch/s, Loss=0.318]#015Epoch 1/1:   7%|▋         | 31/424 [00:04<00:53,  7.37batch/s, Loss=0.318]#015Epoch 1/1:   7%|▋         | 31/424 [00:04<00:53,  7.37batch/s, Loss=0.283]#015Epoch 1/1:   8%|▊         | 32/424 [00:04<00:53,  7.38batch/s, Loss=0.283]#015Epoch 1/1:   8%|▊         | 32/424 [00:04<00:53,  7.38batch/s, Loss=0.401]#015Epoch 1/1:   8%|▊         | 33/424 [00:04<00:53,  7.33batch/s, Loss=0.401]#015Epoch 1/1:   8%|▊         | 33/424 [00:04<00:53,  7.33batch/s, Loss=0.285]#015Epoch 1/1:   8%|▊         | 34/424 [00:04<00:52,  7.42batch/s, Loss=0.285]#015Epoch 1/1:   8%|▊         | 34/424 [00:04<00:52,  7.42batch/s, Loss=0.269]#015Epoch 1/1:   8%|▊         | 35/424 [00:04<00:53,  7.32batch/s, Loss=0.269]#015Epoch 1/1:   8%|▊         | 35/424 [00:04<00:53,  7.32batch/s, Loss=0.286]#015Epoch 1/1:   8%|▊         | 36/424 [00:04<00:52,  7.36batch/s, Loss=0.286]#015Epoch 1/1:   8%|▊         | 36/424 [00:05<00:52,  7.36batch/s, Loss=0.31] #015Epoch 1/1:   9%|▊         | 37/424 [00:05<00:52,  7.32batch/s, Loss=0.31]#015Epoch 1/1:   9%|▊         | 37/424 [00:05<00:52,  7.32batch/s, Loss=0.278]#015Epoch 1/1:   9%|▉         | 38/424 [00:05<00:53,  7.27batch/s, Loss=0.278]#015Epoch 1/1:   9%|▉         | 38/424 [00:05<00:53,  7.27batch/s, Loss=0.266]#015Epoch 1/1:   9%|▉         | 39/424 [00:05<00:53,  7.16batch/s, Loss=0.266]#015Epoch 1/1:   9%|▉         | 39/424 [00:05<00:53,  7.16batch/s, Loss=0.278]#015Epoch 1/1:   9%|▉         | 40/424 [00:05<00:53,  7.14batch/s, Loss=0.278]#015Epoch 1/1:   9%|▉         | 40/424 [00:05<00:53,  7.14batch/s, Loss=0.294]#015Epoch 1/1:  10%|▉         | 41/424 [00:05<00:53,  7.10batch/s, Loss=0.294]#015Epoch 1/1:  10%|▉         | 41/424 [00:05<00:53,  7.10batch/s, Loss=0.289]#015Epoch 1/1:  10%|▉         | 42/424 [00:05<00:53,  7.09batch/s, Loss=0.289]#015Epoch 1/1:  10%|▉         | 42/424 [00:05<00:53,  7.09batch/s, Loss=0.289]#015Epoch 1/1:  10%|█         | 43/424 [00:05<00:53,  7.09batch/s, Loss=0.289]#015Epoch 1/1:  10%|█         | 43/424 [00:06<00:53,  7.09batch/s, Loss=0.265]#015Epoch 1/1:  10%|█         | 44/424 [00:06<00:54,  7.03batch/s, Loss=0.265]#015Epoch 1/1:  10%|█         | 44/424 [00:06<00:54,  7.03batch/s, Loss=0.264]#015Epoch 1/1:  11%|█         | 45/424 [00:06<00:53,  7.08batch/s, Loss=0.264]#015Epoch 1/1:  11%|█         | 45/424 [00:06<00:53,  7.08batch/s, Loss=0.256]#015Epoch 1/1:  11%|█         | 46/424 [00:06<00:53,  7.06batch/s, Loss=0.256]#015Epoch 1/1:  11%|█         | 46/424 [00:06<00:53,  7.06batch/s, Loss=0.261]#015Epoch 1/1:  11%|█         | 47/424 [00:06<00:53,  7.10batch/s, Loss=0.261]#015Epoch 1/1:  11%|█         | 47/424 [00:06<00:53,  7.10batch/s, Loss=0.233]#015Epoch 1/1:  11%|█▏        | 48/424 [00:06<00:53,  7.05batch/s, Loss=0.233]#015Epoch 1/1:  11%|█▏        | 48/424 [00:06<00:53,  7.05batch/s, Loss=0.251]#015Epoch 1/1:  12%|█▏        | 49/424 [00:06<00:53,  7.07batch/s, Loss=0.251]#015Epoch 1/1:  12%|█▏        | 49/424 [00:06<00:53,  7.07batch/s, Loss=0.247]#015Epoch 1/1:  12%|█▏        | 50/424 [00:06<00:52,  7.10batch/s, Loss=0.247]#015Epoch 1/1:  12%|█▏        | 50/424 [00:07<00:52,  7.10batch/s, Loss=0.246]#015Epoch 1/1:  12%|█▏        | 51/424 [00:07<00:52,  7.12batch/s, Loss=0.246]#015Epoch 1/1:  12%|█▏        | 51/424 [00:07<00:52,  7.12batch/s, Loss=0.231]#015Epoch 1/1:  12%|█▏        | 52/424 [00:07<00:52,  7.10batch/s, Loss=0.231]#015Epoch 1/1:  12%|█▏        | 52/424 [00:07<00:52,  7.10batch/s, Loss=0.242]#015Epoch 1/1:  12%|█▎        | 53/424 [00:07<00:51,  7.14batch/s, Loss=0.242]#015Epoch 1/1:  12%|█▎        | 53/424 [00:07<00:51,  7.14batch/s, Loss=0.235]#015Epoch 1/1:  13%|█▎        | 54/424 [00:07<00:51,  7.16batch/s, Loss=0.235]#015Epoch 1/1:  13%|█▎        | 54/424 [00:07<00:51,  7.16batch/s, Loss=0.231]#015Epoch 1/1:  13%|█▎        | 55/424 [00:07<00:51,  7.14batch/s, Loss=0.231]#015Epoch 1/1:  13%|█▎        | 55/424 [00:07<00:51,  7.14batch/s, Loss=0.256]#015Epoch 1/1:  13%|█▎        | 56/424 [00:07<00:51,  7.15batch/s, Loss=0.256]#015Epoch 1/1:  13%|█▎        | 56/424 [00:07<00:51,  7.15batch/s, Loss=0.249]#015Epoch 1/1:  13%|█▎        | 57/424 [00:07<00:51,  7.13batch/s, Loss=0.249]#015Epoch 1/1:  13%|█▎        | 57/424 [00:08<00:51,  7.13batch/s, Loss=0.266]#015Epoch 1/1:  14%|█▎        | 58/424 [00:08<00:51,  7.06batch/s, Loss=0.266]#015Epoch 1/1:  14%|█▎        | 58/424 [00:08<00:51,  7.06batch/s, Loss=0.201]#015Epoch 1/1:  14%|█▍        | 59/424 [00:08<00:51,  7.07batch/s, Loss=0.201]#015Epoch 1/1:  14%|█▍        | 59/424 [00:08<00:51,  7.07batch/s, Loss=0.228]#015Epoch 1/1:  14%|█▍        | 60/424 [00:08<00:50,  7.14batch/s, Loss=0.228]#015Epoch 1/1:  14%|█▍        | 60/424 [00:08<00:50,  7.14batch/s, Loss=0.238]#015Epoch 1/1:  14%|█▍        | 61/424 [00:08<00:51,  7.08batch/s, Loss=0.238]#015Epoch 1/1:  14%|█▍        | 61/424 [00:08<00:51,  7.08batch/s, Loss=0.228]#015Epoch 1/1:  15%|█▍        | 62/424 [00:08<00:51,  7.08batch/s, Loss=0.228]#015Epoch 1/1:  15%|█▍        | 62/424 [00:08<00:51,  7.08batch/s, Loss=0.224]#015Epoch 1/1:  15%|█▍        | 63/424 [00:08<00:50,  7.11batch/s, Loss=0.224]#015Epoch 1/1:  15%|█▍        | 63/424 [00:08<00:50,  7.11batch/s, Loss=0.214]#015Epoch 1/1:  15%|█▌        | 64/424 [00:08<00:50,  7.11batch/s, Loss=0.214]#015Epoch 1/1:  15%|█▌        | 64/424 [00:09<00:50,  7.11batch/s, Loss=0.204]#015Epoch 1/1:  15%|█▌        | 65/424 [00:09<00:50,  7.15batch/s, Loss=0.204]#015Epoch 1/1:  15%|█▌        | 65/424 [00:09<00:50,  7.15batch/s, Loss=0.218]#015Epoch 1/1:  16%|█▌        | 66/424 [00:09<00:50,  7.13batch/s, Loss=0.218]#015Epoch 1/1:  16%|█▌        | 66/424 [00:09<00:50,  7.13batch/s, Loss=0.218]#015Epoch 1/1:  16%|█▌        | 67/424 [00:09<00:50,  7.12batch/s, Loss=0.218]#015Epoch 1/1:  16%|█▌        | 67/424 [00:09<00:50,  7.12batch/s, Loss=0.216]#015Epoch 1/1:  16%|█▌        | 68/424 [00:09<00:49,  7.15batch/s, Loss=0.216]#015Epoch 1/1:  16%|█▌        | 68/424 [00:09<00:49,  7.15batch/s, Loss=0.219]#015Epoch 1/1:  16%|█▋        | 69/424 [00:09<00:49,  7.16batch/s, Loss=0.219]#015Epoch 1/1:  16%|█▋        | 69/424 [00:09<00:49,  7.16batch/s, Loss=0.23] #015Epoch 1/1:  17%|█▋        | 70/424 [00:09<00:49,  7.13batch/s, Loss=0.23]#015Epoch 1/1:  17%|█▋        | 70/424 [00:09<00:49,  7.13batch/s, Loss=0.211]#015Epoch 1/1:  17%|█▋        | 71/424 [00:09<00:49,  7.08batch/s, Loss=0.211]#015Epoch 1/1:  17%|█▋        | 71/424 [00:09<00:49,  7.08batch/s, Loss=0.196]#015Epoch 1/1:  17%|█▋        | 72/424 [00:09<00:49,  7.06batch/s, Loss=0.196]#015Epoch 1/1:  17%|█▋        | 72/424 [00:10<00:49,  7.06batch/s, Loss=0.207]#015Epoch 1/1:  17%|█▋        | 73/424 [00:10<00:49,  7.05batch/s, Loss=0.207]#015Epoch 1/1:  17%|█▋        | 73/424 [00:10<00:49,  7.05batch/s, Loss=0.215]#015Epoch 1/1:  17%|█▋        | 74/424 [00:10<00:50,  6.95batch/s, Loss=0.215]#015Epoch 1/1:  17%|█▋        | 74/424 [00:10<00:50,  6.95batch/s, Loss=0.208]#015Epoch 1/1:  18%|█▊        | 75/424 [00:10<00:50,  6.91batch/s, Loss=0.208]#015Epoch 1/1:  18%|█▊        | 75/424 [00:10<00:50,  6.91batch/s, Loss=0.201]#015Epoch 1/1:  18%|█▊        | 76/424 [00:10<00:50,  6.94batch/s, Loss=0.201]#015Epoch 1/1:  18%|█▊        | 76/424 [00:10<00:50,  6.94batch/s, Loss=0.205]#015Epoch 1/1:  18%|█▊        | 77/424 [00:10<00:49,  6.97batch/s, Loss=0.205]#015Epoch 1/1:  18%|█▊        | 77/424 [00:10<00:49,  6.97batch/s, Loss=0.213]#015Epoch 1/1:  18%|█▊        | 78/424 [00:10<00:49,  6.98batch/s, Loss=0.213]#015Epoch 1/1:  18%|█▊        | 78/424 [00:10<00:49,  6.98batch/s, Loss=0.208]#015Epoch 1/1:  19%|█▊        | 79/424 [00:10<00:49,  7.02batch/s, Loss=0.208]#015Epoch 1/1:  19%|█▊        | 79/424 [00:11<00:49,  7.02batch/s, Loss=0.204]#015Epoch 1/1:  19%|█▉        | 80/424 [00:11<00:49,  7.02batch/s, Loss=0.204]#015Epoch 1/1:  19%|█▉        | 80/424 [00:11<00:49,  7.02batch/s, Loss=0.206]#015Epoch 1/1:  19%|█▉        | 81/424 [00:11<00:48,  7.10batch/s, Loss=0.206]#015Epoch 1/1:  19%|█▉        | 81/424 [00:11<00:48,  7.10batch/s, Loss=0.243]#015Epoch 1/1:  19%|█▉        | 82/424 [00:11<00:48,  7.10batch/s, Loss=0.243]#015Epoch 1/1:  19%|█▉        | 82/424 [00:11<00:48,  7.10batch/s, Loss=0.208]#015Epoch 1/1:  20%|█▉        | 83/424 [00:11<00:48,  7.09batch/s, Loss=0.208]#015Epoch 1/1:  20%|█▉        | 83/424 [00:11<00:48,  7.09batch/s, Loss=0.219]#015Epoch 1/1:  20%|█▉        | 84/424 [00:11<00:47,  7.10batch/s, Loss=0.219]#015Epoch 1/1:  20%|█▉        | 84/424 [00:11<00:47,  7.10batch/s, Loss=0.197]#015Epoch 1/1:  20%|██        | 85/424 [00:11<00:47,  7.15batch/s, Loss=0.197]#015Epoch 1/1:  20%|██        | 85/424 [00:11<00:47,  7.15batch/s, Loss=0.222]#015Epoch 1/1:  20%|██        | 86/424 [00:11<00:47,  7.08batch/s, Loss=0.222]#015Epoch 1/1:  20%|██        | 86/424 [00:12<00:47,  7.08batch/s, Loss=0.191]#015Epoch 1/1:  21%|██        | 87/424 [00:12<00:47,  7.11batch/s, Loss=0.191]#015Epoch 1/1:  21%|██        | 87/424 [00:12<00:47,  7.11batch/s, Loss=0.181]#015Epoch 1/1:  21%|██        | 88/424 [00:12<00:48,  6.97batch/s, Loss=0.181]#015Epoch 1/1:  21%|██        | 88/424 [00:12<00:48,  6.97batch/s, Loss=0.187]#015Epoch 1/1:  21%|██        | 89/424 [00:12<00:47,  7.08batch/s, Loss=0.187]#015Epoch 1/1:  21%|██        | 89/424 [00:12<00:47,  7.08batch/s, Loss=0.207]#015Epoch 1/1:  21%|██        | 90/424 [00:12<00:47,  7.00batch/s, Loss=0.207]#015Epoch 1/1:  21%|██        | 90/424 [00:12<00:47,  7.00batch/s, Loss=0.21] #015Epoch 1/1:  21%|██▏       | 91/424 [00:12<00:47,  7.03batch/s, Loss=0.21]#015Epoch 1/1:  21%|██▏       | 91/424 [00:12<00:47,  7.03batch/s, Loss=0.197]#015Epoch 1/1:  22%|██▏       | 92/424 [00:12<00:47,  7.04batch/s, Loss=0.197]#015Epoch 1/1:  22%|██▏       | 92/424 [00:12<00:47,  7.04batch/s, Loss=0.207]#015Epoch 1/1:  22%|██▏       | 93/424 [00:12<00:47,  7.01batch/s, Loss=0.207]#015Epoch 1/1:  22%|██▏       | 93/424 [00:13<00:47,  7.01batch/s, Loss=0.191]#015Epoch 1/1:  22%|██▏       | 94/424 [00:13<00:46,  7.04batch/s, Loss=0.191]#015Epoch 1/1:  22%|██▏       | 94/424 [00:13<00:46,  7.04batch/s, Loss=0.197]#015Epoch 1/1:  22%|██▏       | 95/424 [00:13<00:46,  7.13batch/s, Loss=0.197]#015Epoch 1/1:  22%|██▏       | 95/424 [00:13<00:46,  7.13batch/s, Loss=0.178]#015Epoch 1/1:  23%|██▎       | 96/424 [00:13<00:45,  7.15batch/s, Loss=0.178]#015Epoch 1/1:  23%|██▎       | 96/424 [00:13<00:45,  7.15batch/s, Loss=0.185]#015Epoch 1/1:  23%|██▎       | 97/424 [00:13<00:45,  7.17batch/s, Loss=0.185]#015Epoch 1/1:  23%|██▎       | 97/424 [00:13<00:45,  7.17batch/s, Loss=0.185]#015Epoch 1/1:  23%|██▎       | 98/424 [00:13<00:45,  7.17batch/s, Loss=0.185]#015Epoch 1/1:  23%|██▎       | 98/424 [00:13<00:45,  7.17batch/s, Loss=0.191]#015Epoch 1/1:  23%|██▎       | 99/424 [00:13<00:45,  7.10batch/s, Loss=0.191]#015Epoch 1/1:  23%|██▎       | 99/424 [00:13<00:45,  7.10batch/s, Loss=0.183]#015Epoch 1/1:  24%|██▎       | 100/424 [00:13<00:45,  7.06batch/s, Loss=0.183]#015Epoch 1/1:  24%|██▎       | 100/424 [00:14<00:45,  7.06batch/s, Loss=0.192]#015Epoch 1/1:  24%|██▍       | 101/424 [00:14<00:45,  7.06batch/s, Loss=0.192]#015Epoch 1/1:  24%|██▍       | 101/424 [00:14<00:45,  7.06batch/s, Loss=0.167]#015Epoch 1/1:  24%|██▍       | 102/424 [00:14<00:45,  7.06batch/s, Loss=0.167]#015Epoch 1/1:  24%|██▍       | 102/424 [00:14<00:45,  7.06batch/s, Loss=0.165]#015Epoch 1/1:  24%|██▍       | 103/424 [00:14<00:45,  7.06batch/s, Loss=0.165]#015Epoch 1/1:  24%|██▍       | 103/424 [00:14<00:45,  7.06batch/s, Loss=0.177]#015Epoch 1/1:  25%|██▍       | 104/424 [00:14<00:44,  7.16batch/s, Loss=0.177]#015Epoch 1/1:  25%|██▍       | 104/424 [00:14<00:44,  7.16batch/s, Loss=0.177\u001b[0m\n"
     ]
    },
    {
     "name": "stdout",
     "output_type": "stream",
     "text": [
      "\u001b[34m]#015Epoch 1/1:  25%|██▍       | 105/424 [00:14<00:44,  7.11batch/s, Loss=0.177]#015Epoch 1/1:  25%|██▍       | 105/424 [00:14<00:44,  7.11batch/s, Loss=0.171]#015Epoch 1/1:  25%|██▌       | 106/424 [00:14<00:44,  7.10batch/s, Loss=0.171]#015Epoch 1/1:  25%|██▌       | 106/424 [00:14<00:44,  7.10batch/s, Loss=0.172]#015Epoch 1/1:  25%|██▌       | 107/424 [00:14<00:44,  7.08batch/s, Loss=0.172]#015Epoch 1/1:  25%|██▌       | 107/424 [00:15<00:44,  7.08batch/s, Loss=0.215]#015Epoch 1/1:  25%|██▌       | 108/424 [00:15<00:44,  7.03batch/s, Loss=0.215]#015Epoch 1/1:  25%|██▌       | 108/424 [00:15<00:44,  7.03batch/s, Loss=0.148]#015Epoch 1/1:  26%|██▌       | 109/424 [00:15<00:44,  7.10batch/s, Loss=0.148]#015Epoch 1/1:  26%|██▌       | 109/424 [00:15<00:44,  7.10batch/s, Loss=0.129]#015Epoch 1/1:  26%|██▌       | 110/424 [00:15<00:44,  7.11batch/s, Loss=0.129]#015Epoch 1/1:  26%|██▌       | 110/424 [00:15<00:44,  7.11batch/s, Loss=0.16] #015Epoch 1/1:  26%|██▌       | 111/424 [00:15<00:44,  7.10batch/s, Loss=0.16]#015Epoch 1/1:  26%|██▌       | 111/424 [00:15<00:44,  7.10batch/s, Loss=0.188]#015Epoch 1/1:  26%|██▋       | 112/424 [00:15<00:43,  7.11batch/s, Loss=0.188]#015Epoch 1/1:  26%|██▋       | 112/424 [00:15<00:43,  7.11batch/s, Loss=0.174]#015Epoch 1/1:  27%|██▋       | 113/424 [00:15<00:43,  7.17batch/s, Loss=0.174]#015Epoch 1/1:  27%|██▋       | 113/424 [00:15<00:43,  7.17batch/s, Loss=0.18] #015Epoch 1/1:  27%|██▋       | 114/424 [00:15<00:43,  7.09batch/s, Loss=0.18]#015Epoch 1/1:  27%|██▋       | 114/424 [00:16<00:43,  7.09batch/s, Loss=0.155]#015Epoch 1/1:  27%|██▋       | 115/424 [00:16<00:44,  6.99batch/s, Loss=0.155]#015Epoch 1/1:  27%|██▋       | 115/424 [00:16<00:44,  6.99batch/s, Loss=0.178]#015Epoch 1/1:  27%|██▋       | 116/424 [00:16<00:44,  6.95batch/s, Loss=0.178]#015Epoch 1/1:  27%|██▋       | 116/424 [00:16<00:44,  6.95batch/s, Loss=0.177]#015Epoch 1/1:  28%|██▊       | 117/424 [00:16<00:44,  6.97batch/s, Loss=0.177]#015Epoch 1/1:  28%|██▊       | 117/424 [00:16<00:44,  6.97batch/s, Loss=0.178]#015Epoch 1/1:  28%|██▊       | 118/424 [00:16<00:44,  6.91batch/s, Loss=0.178]#015Epoch 1/1:  28%|██▊       | 118/424 [00:16<00:44,  6.91batch/s, Loss=0.174]#015Epoch 1/1:  28%|██▊       | 119/424 [00:16<00:43,  6.96batch/s, Loss=0.174]#015Epoch 1/1:  28%|██▊       | 119/424 [00:16<00:43,  6.96batch/s, Loss=0.17] #015Epoch 1/1:  28%|██▊       | 120/424 [00:16<00:43,  6.97batch/s, Loss=0.17]#015Epoch 1/1:  28%|██▊       | 120/424 [00:16<00:43,  6.97batch/s, Loss=0.146]#015Epoch 1/1:  29%|██▊       | 121/424 [00:16<00:42,  7.07batch/s, Loss=0.146]#015Epoch 1/1:  29%|██▊       | 121/424 [00:17<00:42,  7.07batch/s, Loss=0.167]#015Epoch 1/1:  29%|██▉       | 122/424 [00:17<00:42,  7.04batch/s, Loss=0.167]#015Epoch 1/1:  29%|██▉       | 122/424 [00:17<00:42,  7.04batch/s, Loss=0.148]#015Epoch 1/1:  29%|██▉       | 123/424 [00:17<00:42,  7.07batch/s, Loss=0.148]#015Epoch 1/1:  29%|██▉       | 123/424 [00:17<00:42,  7.07batch/s, Loss=0.167]#015Epoch 1/1:  29%|██▉       | 124/424 [00:17<00:42,  7.09batch/s, Loss=0.167]#015Epoch 1/1:  29%|██▉       | 124/424 [00:17<00:42,  7.09batch/s, Loss=0.173]#015Epoch 1/1:  29%|██▉       | 125/424 [00:17<00:43,  6.95batch/s, Loss=0.173]#015Epoch 1/1:  29%|██▉       | 125/424 [00:17<00:43,  6.95batch/s, Loss=0.154]#015Epoch 1/1:  30%|██▉       | 126/424 [00:17<00:42,  7.01batch/s, Loss=0.154]#015Epoch 1/1:  30%|██▉       | 126/424 [00:17<00:42,  7.01batch/s, Loss=0.156]#015Epoch 1/1:  30%|██▉       | 127/424 [00:17<00:42,  7.06batch/s, Loss=0.156]#015Epoch 1/1:  30%|██▉       | 127/424 [00:17<00:42,  7.06batch/s, Loss=0.163]#015Epoch 1/1:  30%|███       | 128/424 [00:17<00:42,  7.04batch/s, Loss=0.163]#015Epoch 1/1:  30%|███       | 128/424 [00:18<00:42,  7.04batch/s, Loss=0.151]#015Epoch 1/1:  30%|███       | 129/424 [00:18<00:41,  7.05batch/s, Loss=0.151]#015Epoch 1/1:  30%|███       | 129/424 [00:18<00:41,  7.05batch/s, Loss=0.147]#015Epoch 1/1:  31%|███       | 130/424 [00:18<00:41,  7.06batch/s, Loss=0.147]#015Epoch 1/1:  31%|███       | 130/424 [00:18<00:41,  7.06batch/s, Loss=0.134]#015Epoch 1/1:  31%|███       | 131/424 [00:18<00:41,  7.05batch/s, Loss=0.134]#015Epoch 1/1:  31%|███       | 131/424 [00:18<00:41,  7.05batch/s, Loss=0.172]#015Epoch 1/1:  31%|███       | 132/424 [00:18<00:41,  7.05batch/s, Loss=0.172]#015Epoch 1/1:  31%|███       | 132/424 [00:18<00:41,  7.05batch/s, Loss=0.12] #015Epoch 1/1:  31%|███▏      | 133/424 [00:18<00:41,  7.02batch/s, Loss=0.12]#015Epoch 1/1:  31%|███▏      | 133/424 [00:18<00:41,  7.02batch/s, Loss=0.156]#015Epoch 1/1:  32%|███▏      | 134/424 [00:18<00:41,  6.96batch/s, Loss=0.156]#015Epoch 1/1:  32%|███▏      | 134/424 [00:18<00:41,  6.96batch/s, Loss=0.15] #015Epoch 1/1:  32%|███▏      | 135/424 [00:18<00:42,  6.87batch/s, Loss=0.15]#015Epoch 1/1:  32%|███▏      | 135/424 [00:19<00:42,  6.87batch/s, Loss=0.136]#015Epoch 1/1:  32%|███▏      | 136/424 [00:19<00:41,  6.94batch/s, Loss=0.136]#015Epoch 1/1:  32%|███▏      | 136/424 [00:19<00:41,  6.94batch/s, Loss=0.125]#015Epoch 1/1:  32%|███▏      | 137/424 [00:19<00:41,  6.89batch/s, Loss=0.125]#015Epoch 1/1:  32%|███▏      | 137/424 [00:19<00:41,  6.89batch/s, Loss=0.138]#015Epoch 1/1:  33%|███▎      | 138/424 [00:19<00:41,  6.94batch/s, Loss=0.138]#015Epoch 1/1:  33%|███▎      | 138/424 [00:19<00:41,  6.94batch/s, Loss=0.145]#015Epoch 1/1:  33%|███▎      | 139/424 [00:19<00:40,  7.01batch/s, Loss=0.145]#015Epoch 1/1:  33%|███▎      | 139/424 [00:19<00:40,  7.01batch/s, Loss=0.138]#015Epoch 1/1:  33%|███▎      | 140/424 [00:19<00:39,  7.11batch/s, Loss=0.138]#015Epoch 1/1:  33%|███▎      | 140/424 [00:19<00:39,  7.11batch/s, Loss=0.134]#015Epoch 1/1:  33%|███▎      | 141/424 [00:19<00:40,  7.07batch/s, Loss=0.134]#015Epoch 1/1:  33%|███▎      | 141/424 [00:19<00:40,  7.07batch/s, Loss=0.145]#015Epoch 1/1:  33%|███▎      | 142/424 [00:19<00:39,  7.17batch/s, Loss=0.145]#015Epoch 1/1:  33%|███▎      | 142/424 [00:20<00:39,  7.17batch/s, Loss=0.14] #015Epoch 1/1:  34%|███▎      | 143/424 [00:20<00:39,  7.12batch/s, Loss=0.14]#015Epoch 1/1:  34%|███▎      | 143/424 [00:20<00:39,  7.12batch/s, Loss=0.143]#015Epoch 1/1:  34%|███▍      | 144/424 [00:20<00:39,  7.15batch/s, Loss=0.143]#015Epoch 1/1:  34%|███▍      | 144/424 [00:20<00:39,  7.15batch/s, Loss=0.122]#015Epoch 1/1:  34%|███▍      | 145/424 [00:20<00:39,  7.05batch/s, Loss=0.122]#015Epoch 1/1:  34%|███▍      | 145/424 [00:20<00:39,  7.05batch/s, Loss=0.149]#015Epoch 1/1:  34%|███▍      | 146/424 [00:20<00:39,  7.07batch/s, Loss=0.149]#015Epoch 1/1:  34%|███▍      | 146/424 [00:20<00:39,  7.07batch/s, Loss=0.124]#015Epoch 1/1:  35%|███▍      | 147/424 [00:20<00:38,  7.12batch/s, Loss=0.124]#015Epoch 1/1:  35%|███▍      | 147/424 [00:20<00:38,  7.12batch/s, Loss=0.106]#015Epoch 1/1:  35%|███▍      | 148/424 [00:20<00:38,  7.13batch/s, Loss=0.106]#015Epoch 1/1:  35%|███▍      | 148/424 [00:20<00:38,  7.13batch/s, Loss=0.117]#015Epoch 1/1:  35%|███▌      | 149/424 [00:20<00:38,  7.12batch/s, Loss=0.117]#015Epoch 1/1:  35%|███▌      | 149/424 [00:21<00:38,  7.12batch/s, Loss=0.12] #015Epoch 1/1:  35%|███▌      | 150/424 [00:21<00:38,  7.15batch/s, Loss=0.12]#015Epoch 1/1:  35%|███▌      | 150/424 [00:21<00:38,  7.15batch/s, Loss=0.109]#015Epoch 1/1:  36%|███▌      | 151/424 [00:21<00:38,  7.10batch/s, Loss=0.109]#015Epoch 1/1:  36%|███▌      | 151/424 [00:21<00:38,  7.10batch/s, Loss=0.142]#015Epoch 1/1:  36%|███▌      | 152/424 [00:21<00:38,  7.07batch/s, Loss=0.142]#015Epoch 1/1:  36%|███▌      | 152/424 [00:21<00:38,  7.07batch/s, Loss=0.16] #015Epoch 1/1:  36%|███▌      | 153/424 [00:21<00:38,  7.04batch/s, Loss=0.16]#015Epoch 1/1:  36%|███▌      | 153/424 [00:21<00:38,  7.04batch/s, Loss=0.127]#015Epoch 1/1:  36%|███▋      | 154/424 [00:21<00:38,  7.03batch/s, Loss=0.127]#015Epoch 1/1:  36%|███▋      | 154/424 [00:21<00:38,  7.03batch/s, Loss=0.125]#015Epoch 1/1:  37%|███▋      | 155/424 [00:21<00:37,  7.09batch/s, Loss=0.125]#015Epoch 1/1:  37%|███▋      | 155/424 [00:21<00:37,  7.09batch/s, Loss=0.108]#015Epoch 1/1:  37%|███▋      | 156/424 [00:21<00:37,  7.12batch/s, Loss=0.108]#015Epoch 1/1:  37%|███▋      | 156/424 [00:22<00:37,  7.12batch/s, Loss=0.154]#015Epoch 1/1:  37%|███▋      | 157/424 [00:22<00:37,  7.05batch/s, Loss=0.154]#015Epoch 1/1:  37%|███▋      | 157/424 [00:22<00:37,  7.05batch/s, Loss=0.121]#015Epoch 1/1:  37%|███▋      | 158/424 [00:22<00:37,  7.00batch/s, Loss=0.121]#015Epoch 1/1:  37%|███▋      | 158/424 [00:22<00:37,  7.00batch/s, Loss=0.133]#015Epoch 1/1:  38%|███▊      | 159/424 [00:22<00:37,  7.01batch/s, Loss=0.133]#015Epoch 1/1:  38%|███▊      | 159/424 [00:22<00:37,  7.01batch/s, Loss=0.125]#015Epoch 1/1:  38%|███▊      | 160/424 [00:22<00:37,  7.02batch/s, Loss=0.125]#015Epoch 1/1:  38%|███▊      | 160/424 [00:22<00:37,  7.02batch/s, Loss=0.154]#015Epoch 1/1:  38%|███▊      | 161/424 [00:22<00:37,  7.03batch/s, Loss=0.154]#015Epoch 1/1:  38%|███▊      | 161/424 [00:22<00:37,  7.03batch/s, Loss=0.125]#015Epoch 1/1:  38%|███▊      | 162/424 [00:22<00:37,  7.07batch/s, Loss=0.125]#015Epoch 1/1:  38%|███▊      | 162/424 [00:22<00:37,  7.07batch/s, Loss=0.0928]#015Epoch 1/1:  38%|███▊      | 163/424 [00:22<00:37,  6.99batch/s, Loss=0.0928]#015Epoch 1/1:  38%|███▊      | 163/424 [00:23<00:37,  6.99batch/s, Loss=0.0914]#015Epoch 1/1:  39%|███▊      | 164/424 [00:23<00:36,  7.11batch/s, Loss=0.0914]#015Epoch 1/1:  39%|███▊      | 164/424 [00:23<00:36,  7.11batch/s, Loss=0.114] #015Epoch 1/1:  39%|███▉      | 165/424 [00:23<00:36,  7.11batch/s, Loss=0.114]#015Epoch 1/1:  39%|███▉      | 165/424 [00:23<00:36,  7.11batch/s, Loss=0.103]#015Epoch 1/1:  39%|███▉      | 166/424 [00:23<00:36,  7.10batch/s, Loss=0.103]#015Epoch 1/1:  39%|███▉      | 166/424 [00:23<00:36,  7.10batch/s, Loss=0.113]#015Epoch 1/1:  39%|███▉      | 167/424 [00:23<00:36,  7.10batch/s, Loss=0.113]#015Epoch 1/1:  39%|███▉      | 167/424 [00:23<00:36,  7.10batch/s, Loss=0.112]#015Epoch 1/1:  40%|███▉      | 168/424 [00:23<00:36,  7.10batch/s, Loss=0.112]#015Epoch 1/1:  40%|███▉      | 168/424 [00:23<00:36,  7.10batch/s, Loss=0.104]#015Epoch 1/1:  40%|███▉      | 169/424 [00:23<00:35,  7.09batch/s, Loss=0.104]#015Epoch 1/1:  40%|███▉      | 169/424 [00:23<00:35,  7.09batch/s, Loss=0.12] #015Epoch 1/1:  40%|████      | 170/424 [00:23<00:35,  7.09batch/s, Loss=0.12]#015Epoch 1/1:  40%|████      | 170/424 [00:24<00:35,  7.09batch/s, Loss=0.106]#015Epoch 1/1:  40%|████      | 171/424 [00:24<00:35,  7.10batch/s, Loss=0.106]#015Epoch 1/1:  40%|████      | 171/424 [00:24<00:35,  7.10batch/s, Loss=0.121]#015Epoch 1/1:  41%|████      | 172/424 [00:24<00:35,  7.10batch/s, Loss=0.121]#015Epoch 1/1:  41%|████      | 172/424 [00:24<00:35,  7.10batch/s, Loss=0.121]#015Epoch 1/1:  41%|████      | 173/424 [00:24<00:35,  7.12batch/s, Loss=0.121]#015Epoch 1/1:  41%|████      | 173/424 [00:24<00:35,  7.12batch/s, Loss=0.114]#015Epoch 1/1:  41%|████      | 174/424 [00:24<00:34,  7.17batch/s, Loss=0.114]#015Epoch 1/1:  41%|████      | 174/424 [00:24<00:34,  7.17batch/s, Loss=0.114]#015Epoch 1/1:  41%|████▏     | 175/424 [00:24<00:34,  7.17batch/s, Loss=0.114]#015Epoch 1/1:  41%|████▏     | 175/424 [00:24<00:34,  7.17batch/s, Loss=0.0882]#015Epoch 1/1:  42%|████▏     | 176/424 [00:24<00:34,  7.17batch/s, Loss=0.0882]#015Epoch 1/1:  42%|████▏     | 176/424 [00:24<00:34,  7.17batch/s, Loss=0.0966]#015Epoch 1/1:  42%|████▏     | 177/424 [00:24<00:34,  7.21batch/s, Loss=0.0966]#015Epoch 1/1:  42%|████▏     | 177/424 [00:24<00:34,  7.21batch/s, Loss=0.112] #015Epoch 1/1:  42%|████▏     | 178/424 [00:24<00:34,  7.18batch/s, Loss=0.112]#015Epoch 1/1:  42%|████▏     | 178/424 [00:25<00:34,  7.18batch/s, Loss=0.121]#015Epoch 1/1:  42%|████▏     | 179/424 [00:25<00:34,  7.16batch/s, Loss=0.121]#015Epoch 1/1:  42%|████▏     | 179/424 [00:25<00:34,  7.16batch/s, Loss=0.121]#015Epoch 1/1:  42%|████▏     | 180/424 [00:25<00:34,  7.11batch/s, Loss=0.121]#015Epoch 1/1:  42%|████▏     | 180/424 [00:25<00:34,  7.11batch/s, Loss=0.104]#015Epoch 1/1:  43%|████▎     | 181/424 [00:25<00:34,  7.03batch/s, Loss=0.104]#015Epoch 1/1:  43%|████▎     | 181/424 [00:25<00:34,  7.03batch/s, Loss=0.127]#015Epoch 1/1:  43%|████▎     | 182/424 [00:25<00:34,  7.05batch/s, Loss=0.127]#015Epoch 1/1:  43%|████▎     | 182/424 [00:25<00:34,  7.05batch/s, Loss=0.104]#015Epoch 1/1:  43%|████▎     | 183/424 [00:25<00:34,  7.07batch/s, Loss=0.104]#015Epoch 1/1:  43%|████▎     | 183/424 [00:25<00:34,  7.07batch/s, Loss=0.134]#015Epoch 1/1:  43%|████▎     | 184/424 [00:25<00:33,  7.12batch/s, Loss=0.134]#015Epoch 1/1:  43%|████▎     | 184/424 [00:25<00:33,  7.12batch/s, Loss=0.0997]#015Epoch 1/1:  44%|████▎     | 185/424 [00:25<00:33,  7.14batch/s, Loss=0.0997]#015Epoch 1/1:  44%|████▎     | 185/424 [00:26<00:33,  7.14batch/s, Loss=0.114] #015Epoch 1/1:  44%|████▍     | 186/424 [00:26<00:33,  7.11batch/s, Loss=0.114]#015Epoch 1/1:  44%|████▍     | 186/424 [00:26<00:33,  7.11batch/s, Loss=0.0985]#015Epoch 1/1:  44%|████▍     | 187/424 [00:26<00:33,  7.12batch/s, Loss=0.0985]#015Epoch 1/1:  44%|████▍     | 187/424 [00:26<00:33,  7.12batch/s, Loss=0.108] #015Epoch 1/1:  44%|████▍     | 188/424 [00:26<00:33,  7.08batch/s, Loss=0.108]#015Epoch 1/1:  44%|████▍     | 188/424 [00:26<00:33,  7.08batch/s, Loss=0.118]#015Epoch 1/1:  45%|████▍     | 189/424 [00:26<00:33,  7.11batch/s, Loss=0.118]#015Epoch 1/1:  45%|████▍     | 189/424 [00:26<00:33,  7.11batch/s, Loss=0.0977]#015Epoch 1/1:  45%|████▍     | 190/424 [00:26<00:32,  7.18batch/s, Loss=0.0977]#015Epoch 1/1:  45%|████▍     | 190/424 [00:26<00:32,  7.18batch/s, Loss=0.1]   #015Epoch 1/1:  45%|████▌     | 191/424 [00:26<00:32,  7.12batch/s, Loss=0.1]#015Epoch 1/1:  45%|████▌     | 191/424 [00:26<00:32,  7.12batch/s, Loss=0.0885]#015Epoch 1/1:  45%|████▌     | 192/424 [00:26<00:32,  7.11batch/s, Loss=0.0885]#015Epoch 1/1:  45%|████▌     | 192/424 [00:27<00:32,  7.11batch/s, Loss=0.105] #015Epoch 1/1:  46%|████▌     | 193/424 [00:27<00:32,  7.14batch/s, Loss=0.105]#015Epoch 1/1:  46%|████▌     | 193/424 [00:27<00:32,  7.14batch/s, Loss=0.112]#015Epoch 1/1:  46%|████▌     | 194/424 [00:27<00:32,  7.09batch/s, Loss=0.112]#015Epoch 1/1:  46%|████▌     | 194/424 [00:27<00:32,  7.09batch/s, Loss=0.104]#015Epoch 1/1:  46%|████▌     | 195/424 [00:27<00:32,  7.14batch/s, Loss=0.104]#015Epoch 1/1:  46%|████▌     | 195/424 [00:27<00:32,  7.14batch/s, Loss=0.0869]#015Epoch 1/1:  46%|████▌     | 196/424 [00:27<00:32,  7.02batch/s, Loss=0.0869]#015Epoch 1/1:  46%|████▌     | 196/424 [00:27<00:32,  7.02batch/s, Loss=0.0983]#015Epoch 1/1:  46%|████▋     | 197/424 [00:27<00:32,  7.04batch/s, Loss=0.0983]#015Epoch 1/1:  46%|████▋     | 197/424 [00:27<00:32,  7.04batch/s, Loss=0.134] #015Epoch 1/1:  47%|████▋     | 198/424 [00:27<00:31,  7.07batch/s, Loss=0.134]#015Epoch 1/1:  47%|████▋     | 198/424 [00:27<00:31,  7.07batch/s, Loss=0.106]#015Epoch 1/1:  47%|████▋     | 199/424 [00:27<00:31,  7.05batch/s, Loss=0.106]#015Epoch 1/1:  47%|████▋     | 199/424 [00:28<00:31,  7.05batch/s, Loss=0.108]#015Epoch 1/1:  47%|████▋     | 200/424 [00:28<00:31,  7.16batch/s, Loss=0.108]#015Epoch 1/1:  47%|████▋     | 200/424 [00:28<00:31,  7.16batch/s, Loss=0.0966]#015Epoch 1/1:  47%|████▋     | 201/424 [00:28<00:31,  7.11batch/s, Loss=0.0966]#015Epoch 1/1:  47%|████▋     | 201/424 [00:28<00:31,  7.11batch/s, Loss=0.0957]#015Epoch 1/1:  48%|████▊     | 202/424 [00:28<00:31,  7.04batch/\u001b[0m\n"
     ]
    },
    {
     "name": "stdout",
     "output_type": "stream",
     "text": [
      "\u001b[34ms, Loss=0.0957]#015Epoch 1/1:  48%|████▊     | 202/424 [00:28<00:31,  7.04batch/s, Loss=0.0952]#015Epoch 1/1:  48%|████▊     | 203/424 [00:28<00:31,  7.04batch/s, Loss=0.0952]#015Epoch 1/1:  48%|████▊     | 203/424 [00:28<00:31,  7.04batch/s, Loss=0.112] #015Epoch 1/1:  48%|████▊     | 204/424 [00:28<00:31,  7.04batch/s, Loss=0.112]#015Epoch 1/1:  48%|████▊     | 204/424 [00:28<00:31,  7.04batch/s, Loss=0.122]#015Epoch 1/1:  48%|████▊     | 205/424 [00:28<00:31,  6.89batch/s, Loss=0.122]#015Epoch 1/1:  48%|████▊     | 205/424 [00:28<00:31,  6.89batch/s, Loss=0.105]#015Epoch 1/1:  49%|████▊     | 206/424 [00:28<00:31,  6.94batch/s, Loss=0.105]#015Epoch 1/1:  49%|████▊     | 206/424 [00:29<00:31,  6.94batch/s, Loss=0.0979]#015Epoch 1/1:  49%|████▉     | 207/424 [00:29<00:31,  6.99batch/s, Loss=0.0979]#015Epoch 1/1:  49%|████▉     | 207/424 [00:29<00:31,  6.99batch/s, Loss=0.102] #015Epoch 1/1:  49%|████▉     | 208/424 [00:29<00:30,  7.11batch/s, Loss=0.102]#015Epoch 1/1:  49%|████▉     | 208/424 [00:29<00:30,  7.11batch/s, Loss=0.0817]#015Epoch 1/1:  49%|████▉     | 209/424 [00:29<00:30,  7.16batch/s, Loss=0.0817]#015Epoch 1/1:  49%|████▉     | 209/424 [00:29<00:30,  7.16batch/s, Loss=0.1]   #015Epoch 1/1:  50%|████▉     | 210/424 [00:29<00:29,  7.15batch/s, Loss=0.1]#015Epoch 1/1:  50%|████▉     | 210/424 [00:29<00:29,  7.15batch/s, Loss=0.0958]#015Epoch 1/1:  50%|████▉     | 211/424 [00:29<00:29,  7.25batch/s, Loss=0.0958]#015Epoch 1/1:  50%|████▉     | 211/424 [00:29<00:29,  7.25batch/s, Loss=0.116] #015Epoch 1/1:  50%|█████     | 212/424 [00:29<00:29,  7.31batch/s, Loss=0.116]#015Epoch 1/1:  50%|█████     | 212/424 [00:29<00:29,  7.31batch/s, Loss=0.107]#015Epoch 1/1:  50%|█████     | 213/424 [00:29<00:29,  7.26batch/s, Loss=0.107]#015Epoch 1/1:  50%|█████     | 213/424 [00:30<00:29,  7.26batch/s, Loss=0.0923]#015Epoch 1/1:  50%|█████     | 214/424 [00:30<00:28,  7.36batch/s, Loss=0.0923]#015Epoch 1/1:  50%|█████     | 214/424 [00:30<00:28,  7.36batch/s, Loss=0.102] #015Epoch 1/1:  51%|█████     | 215/424 [00:30<00:28,  7.33batch/s, Loss=0.102]#015Epoch 1/1:  51%|█████     | 215/424 [00:30<00:28,  7.33batch/s, Loss=0.0859]#015Epoch 1/1:  51%|█████     | 216/424 [00:30<00:28,  7.29batch/s, Loss=0.0859]#015Epoch 1/1:  51%|█████     | 216/424 [00:30<00:28,  7.29batch/s, Loss=0.101] #015Epoch 1/1:  51%|█████     | 217/424 [00:30<00:28,  7.25batch/s, Loss=0.101]#015Epoch 1/1:  51%|█████     | 217/424 [00:30<00:28,  7.25batch/s, Loss=0.109]#015Epoch 1/1:  51%|█████▏    | 218/424 [00:30<00:28,  7.25batch/s, Loss=0.109]#015Epoch 1/1:  51%|█████▏    | 218/424 [00:30<00:28,  7.25batch/s, Loss=0.0858]#015Epoch 1/1:  52%|█████▏    | 219/424 [00:30<00:28,  7.28batch/s, Loss=0.0858]#015Epoch 1/1:  52%|█████▏    | 219/424 [00:30<00:28,  7.28batch/s, Loss=0.0931]#015Epoch 1/1:  52%|█████▏    | 220/424 [00:30<00:28,  7.18batch/s, Loss=0.0931]#015Epoch 1/1:  52%|█████▏    | 220/424 [00:31<00:28,  7.18batch/s, Loss=0.0845]#015Epoch 1/1:  52%|█████▏    | 221/424 [00:31<00:28,  7.20batch/s, Loss=0.0845]#015Epoch 1/1:  52%|█████▏    | 221/424 [00:31<00:28,  7.20batch/s, Loss=0.104] #015Epoch 1/1:  52%|█████▏    | 222/424 [00:31<00:28,  7.15batch/s, Loss=0.104]#015Epoch 1/1:  52%|█████▏    | 222/424 [00:31<00:28,  7.15batch/s, Loss=0.099]#015Epoch 1/1:  53%|█████▎    | 223/424 [00:31<00:28,  7.06batch/s, Loss=0.099]#015Epoch 1/1:  53%|█████▎    | 223/424 [00:31<00:28,  7.06batch/s, Loss=0.082]#015Epoch 1/1:  53%|█████▎    | 224/424 [00:31<00:28,  7.13batch/s, Loss=0.082]#015Epoch 1/1:  53%|█████▎    | 224/424 [00:31<00:28,  7.13batch/s, Loss=0.103]#015Epoch 1/1:  53%|█████▎    | 225/424 [00:31<00:27,  7.11batch/s, Loss=0.103]#015Epoch 1/1:  53%|█████▎    | 225/424 [00:31<00:27,  7.11batch/s, Loss=0.0927]#015Epoch 1/1:  53%|█████▎    | 226/424 [00:31<00:27,  7.16batch/s, Loss=0.0927]#015Epoch 1/1:  53%|█████▎    | 226/424 [00:31<00:27,  7.16batch/s, Loss=0.0757]#015Epoch 1/1:  54%|█████▎    | 227/424 [00:31<00:27,  7.19batch/s, Loss=0.0757]#015Epoch 1/1:  54%|█████▎    | 227/424 [00:32<00:27,  7.19batch/s, Loss=0.114] #015Epoch 1/1:  54%|█████▍    | 228/424 [00:32<00:27,  7.24batch/s, Loss=0.114]#015Epoch 1/1:  54%|█████▍    | 228/424 [00:32<00:27,  7.24batch/s, Loss=0.0894]#015Epoch 1/1:  54%|█████▍    | 229/424 [00:32<00:26,  7.28batch/s, Loss=0.0894]#015Epoch 1/1:  54%|█████▍    | 229/424 [00:32<00:26,  7.28batch/s, Loss=0.0976]#015Epoch 1/1:  54%|█████▍    | 230/424 [00:32<00:26,  7.24batch/s, Loss=0.0976]#015Epoch 1/1:  54%|█████▍    | 230/424 [00:32<00:26,  7.24batch/s, Loss=0.0867]#015Epoch 1/1:  54%|█████▍    | 231/424 [00:32<00:26,  7.19batch/s, Loss=0.0867]#015Epoch 1/1:  54%|█████▍    | 231/424 [00:32<00:26,  7.19batch/s, Loss=0.112] #015Epoch 1/1:  55%|█████▍    | 232/424 [00:32<00:26,  7.24batch/s, Loss=0.112]#015Epoch 1/1:  55%|█████▍    | 232/424 [00:32<00:26,  7.24batch/s, Loss=0.0919]#015Epoch 1/1:  55%|█████▍    | 233/424 [00:32<00:26,  7.20batch/s, Loss=0.0919]#015Epoch 1/1:  55%|█████▍    | 233/424 [00:32<00:26,  7.20batch/s, Loss=0.118] #015Epoch 1/1:  55%|█████▌    | 234/424 [00:32<00:26,  7.25batch/s, Loss=0.118]#015Epoch 1/1:  55%|█████▌    | 234/424 [00:32<00:26,  7.25batch/s, Loss=0.0909]#015Epoch 1/1:  55%|█████▌    | 235/424 [00:32<00:25,  7.29batch/s, Loss=0.0909]#015Epoch 1/1:  55%|█████▌    | 235/424 [00:33<00:25,  7.29batch/s, Loss=0.111] #015Epoch 1/1:  56%|█████▌    | 236/424 [00:33<00:25,  7.39batch/s, Loss=0.111]#015Epoch 1/1:  56%|█████▌    | 236/424 [00:33<00:25,  7.39batch/s, Loss=0.0796]#015Epoch 1/1:  56%|█████▌    | 237/424 [00:33<00:25,  7.37batch/s, Loss=0.0796]#015Epoch 1/1:  56%|█████▌    | 237/424 [00:33<00:25,  7.37batch/s, Loss=0.0762]#015Epoch 1/1:  56%|█████▌    | 238/424 [00:33<00:25,  7.43batch/s, Loss=0.0762]#015Epoch 1/1:  56%|█████▌    | 238/424 [00:33<00:25,  7.43batch/s, Loss=0.0796]#015Epoch 1/1:  56%|█████▋    | 239/424 [00:33<00:25,  7.39batch/s, Loss=0.0796]#015Epoch 1/1:  56%|█████▋    | 239/424 [00:33<00:25,  7.39batch/s, Loss=0.0914]#015Epoch 1/1:  57%|█████▋    | 240/424 [00:33<00:24,  7.37batch/s, Loss=0.0914]#015Epoch 1/1:  57%|█████▋    | 240/424 [00:33<00:24,  7.37batch/s, Loss=0.111] #015Epoch 1/1:  57%|█████▋    | 241/424 [00:33<00:25,  7.27batch/s, Loss=0.111]#015Epoch 1/1:  57%|█████▋    | 241/424 [00:33<00:25,  7.27batch/s, Loss=0.106]#015Epoch 1/1:  57%|█████▋    | 242/424 [00:33<00:25,  7.25batch/s, Loss=0.106]#015Epoch 1/1:  57%|█████▋    | 242/424 [00:34<00:25,  7.25batch/s, Loss=0.0687]#015Epoch 1/1:  57%|█████▋    | 243/424 [00:34<00:25,  7.21batch/s, Loss=0.0687]#015Epoch 1/1:  57%|█████▋    | 243/424 [00:34<00:25,  7.21batch/s, Loss=0.113] #015Epoch 1/1:  58%|█████▊    | 244/424 [00:34<00:25,  7.18batch/s, Loss=0.113]#015Epoch 1/1:  58%|█████▊    | 244/424 [00:34<00:25,  7.18batch/s, Loss=0.0768]#015Epoch 1/1:  58%|█████▊    | 245/424 [00:34<00:25,  7.16batch/s, Loss=0.0768]#015Epoch 1/1:  58%|█████▊    | 245/424 [00:34<00:25,  7.16batch/s, Loss=0.11]  #015Epoch 1/1:  58%|█████▊    | 246/424 [00:34<00:24,  7.19batch/s, Loss=0.11]#015Epoch 1/1:  58%|█████▊    | 246/424 [00:34<00:24,  7.19batch/s, Loss=0.0848]#015Epoch 1/1:  58%|█████▊    | 247/424 [00:34<00:24,  7.23batch/s, Loss=0.0848]#015Epoch 1/1:  58%|█████▊    | 247/424 [00:34<00:24,  7.23batch/s, Loss=0.0699]#015Epoch 1/1:  58%|█████▊    | 248/424 [00:34<00:24,  7.33batch/s, Loss=0.0699]#015Epoch 1/1:  58%|█████▊    | 248/424 [00:34<00:24,  7.33batch/s, Loss=0.0897]#015Epoch 1/1:  59%|█████▊    | 249/424 [00:34<00:24,  7.22batch/s, Loss=0.0897]#015Epoch 1/1:  59%|█████▊    | 249/424 [00:35<00:24,  7.22batch/s, Loss=0.0803]#015Epoch 1/1:  59%|█████▉    | 250/424 [00:35<00:24,  7.25batch/s, Loss=0.0803]#015Epoch 1/1:  59%|█████▉    | 250/424 [00:35<00:24,  7.25batch/s, Loss=0.108] #015Epoch 1/1:  59%|█████▉    | 251/424 [00:35<00:23,  7.25batch/s, Loss=0.108]#015Epoch 1/1:  59%|█████▉    | 251/424 [00:35<00:23,  7.25batch/s, Loss=0.108]#015Epoch 1/1:  59%|█████▉    | 252/424 [00:35<00:23,  7.17batch/s, Loss=0.108]#015Epoch 1/1:  59%|█████▉    | 252/424 [00:35<00:23,  7.17batch/s, Loss=0.0856]#015Epoch 1/1:  60%|█████▉    | 253/424 [00:35<00:24,  7.11batch/s, Loss=0.0856]#015Epoch 1/1:  60%|█████▉    | 253/424 [00:35<00:24,  7.11batch/s, Loss=0.0907]#015Epoch 1/1:  60%|█████▉    | 254/424 [00:35<00:24,  7.08batch/s, Loss=0.0907]#015Epoch 1/1:  60%|█████▉    | 254/424 [00:35<00:24,  7.08batch/s, Loss=0.0943]#015Epoch 1/1:  60%|██████    | 255/424 [00:35<00:23,  7.09batch/s, Loss=0.0943]#015Epoch 1/1:  60%|██████    | 255/424 [00:35<00:23,  7.09batch/s, Loss=0.105] #015Epoch 1/1:  60%|██████    | 256/424 [00:35<00:23,  7.08batch/s, Loss=0.105]#015Epoch 1/1:  60%|██████    | 256/424 [00:36<00:23,  7.08batch/s, Loss=0.087]#015Epoch 1/1:  61%|██████    | 257/424 [00:36<00:23,  7.13batch/s, Loss=0.087]#015Epoch 1/1:  61%|██████    | 257/424 [00:36<00:23,  7.13batch/s, Loss=0.0948]#015Epoch 1/1:  61%|██████    | 258/424 [00:36<00:23,  7.18batch/s, Loss=0.0948]#015Epoch 1/1:  61%|██████    | 258/424 [00:36<00:23,  7.18batch/s, Loss=0.0987]#015Epoch 1/1:  61%|██████    | 259/424 [00:36<00:22,  7.19batch/s, Loss=0.0987]#015Epoch 1/1:  61%|██████    | 259/424 [00:36<00:22,  7.19batch/s, Loss=0.0985]#015Epoch 1/1:  61%|██████▏   | 260/424 [00:36<00:23,  7.09batch/s, Loss=0.0985]#015Epoch 1/1:  61%|██████▏   | 260/424 [00:36<00:23,  7.09batch/s, Loss=0.0877]#015Epoch 1/1:  62%|██████▏   | 261/424 [00:36<00:22,  7.11batch/s, Loss=0.0877]#015Epoch 1/1:  62%|██████▏   | 261/424 [00:36<00:22,  7.11batch/s, Loss=0.0741]#015Epoch 1/1:  62%|██████▏   | 262/424 [00:36<00:22,  7.11batch/s, Loss=0.0741]#015Epoch 1/1:  62%|██████▏   | 262/424 [00:36<00:22,  7.11batch/s, Loss=0.0898]#015Epoch 1/1:  62%|██████▏   | 263/424 [00:36<00:22,  7.10batch/s, Loss=0.0898]#015Epoch 1/1:  62%|██████▏   | 263/424 [00:36<00:22,  7.10batch/s, Loss=0.116] #015Epoch 1/1:  62%|██████▏   | 264/424 [00:36<00:22,  7.10batch/s, Loss=0.116]#015Epoch 1/1:  62%|██████▏   | 264/424 [00:37<00:22,  7.10batch/s, Loss=0.0974]#015Epoch 1/1:  62%|██████▎   | 265/424 [00:37<00:22,  7.17batch/s, Loss=0.0974]#015Epoch 1/1:  62%|██████▎   | 265/424 [00:37<00:22,  7.17batch/s, Loss=0.0957]#015Epoch 1/1:  63%|██████▎   | 266/424 [00:37<00:22,  7.12batch/s, Loss=0.0957]#015Epoch 1/1:  63%|██████▎   | 266/424 [00:37<00:22,  7.12batch/s, Loss=0.108] #015Epoch 1/1:  63%|██████▎   | 267/424 [00:37<00:22,  7.07batch/s, Loss=0.108]#015Epoch 1/1:  63%|██████▎   | 267/424 [00:37<00:22,  7.07batch/s, Loss=0.111]#015Epoch 1/1:  63%|██████▎   | 268/424 [00:37<00:22,  7.03batch/s, Loss=0.111]#015Epoch 1/1:  63%|██████▎   | 268/424 [00:37<00:22,  7.03batch/s, Loss=0.0869]#015Epoch 1/1:  63%|██████▎   | 269/424 [00:37<00:21,  7.11batch/s, Loss=0.0869]#015Epoch 1/1:  63%|██████▎   | 269/424 [00:37<00:21,  7.11batch/s, Loss=0.0963]#015Epoch 1/1:  64%|██████▎   | 270/424 [00:37<00:21,  7.15batch/s, Loss=0.0963]#015Epoch 1/1:  64%|██████▎   | 270/424 [00:37<00:21,  7.15batch/s, Loss=0.0627]#015Epoch 1/1:  64%|██████▍   | 271/424 [00:37<00:21,  7.08batch/s, Loss=0.0627]#015Epoch 1/1:  64%|██████▍   | 271/424 [00:38<00:21,  7.08batch/s, Loss=0.0955]#015Epoch 1/1:  64%|██████▍   | 272/424 [00:38<00:21,  7.16batch/s, Loss=0.0955]#015Epoch 1/1:  64%|██████▍   | 272/424 [00:38<00:21,  7.16batch/s, Loss=0.0683]#015Epoch 1/1:  64%|██████▍   | 273/424 [00:38<00:21,  7.17batch/s, Loss=0.0683]#015Epoch 1/1:  64%|██████▍   | 273/424 [00:38<00:21,  7.17batch/s, Loss=0.0848]#015Epoch 1/1:  65%|██████▍   | 274/424 [00:38<00:20,  7.15batch/s, Loss=0.0848]#015Epoch 1/1:  65%|██████▍   | 274/424 [00:38<00:20,  7.15batch/s, Loss=0.0905]#015Epoch 1/1:  65%|██████▍   | 275/424 [00:38<00:21,  7.06batch/s, Loss=0.0905]#015Epoch 1/1:  65%|██████▍   | 275/424 [00:38<00:21,  7.06batch/s, Loss=0.0784]#015Epoch 1/1:  65%|██████▌   | 276/424 [00:38<00:20,  7.06batch/s, Loss=0.0784]#015Epoch 1/1:  65%|██████▌   | 276/424 [00:38<00:20,  7.06batch/s, Loss=0.102] #015Epoch 1/1:  65%|██████▌   | 277/424 [00:38<00:20,  7.01batch/s, Loss=0.102]#015Epoch 1/1:  65%|██████▌   | 277/424 [00:38<00:20,  7.01batch/s, Loss=0.0912]#015Epoch 1/1:  66%|██████▌   | 278/424 [00:38<00:20,  7.11batch/s, Loss=0.0912]#015Epoch 1/1:  66%|██████▌   | 278/424 [00:39<00:20,  7.11batch/s, Loss=0.097] #015Epoch 1/1:  66%|██████▌   | 279/424 [00:39<00:20,  7.21batch/s, Loss=0.097]#015Epoch 1/1:  66%|██████▌   | 279/424 [00:39<00:20,  7.21batch/s, Loss=0.113]#015Epoch 1/1:  66%|██████▌   | 280/424 [00:39<00:20,  7.18batch/s, Loss=0.113]#015Epoch 1/1:  66%|██████▌   | 280/424 [00:39<00:20,  7.18batch/s, Loss=0.0813]#015Epoch 1/1:  66%|██████▋   | 281/424 [00:39<00:19,  7.25batch/s, Loss=0.0813]#015Epoch 1/1:  66%|██████▋   | 281/424 [00:39<00:19,  7.25batch/s, Loss=0.0932]#015Epoch 1/1:  67%|██████▋   | 282/424 [00:39<00:19,  7.23batch/s, Loss=0.0932]#015Epoch 1/1:  67%|██████▋   | 282/424 [00:39<00:19,  7.23batch/s, Loss=0.0807]#015Epoch 1/1:  67%|██████▋   | 283/424 [00:39<00:19,  7.27batch/s, Loss=0.0807]#015Epoch 1/1:  67%|██████▋   | 283/424 [00:39<00:19,  7.27batch/s, Loss=0.0801]#015Epoch 1/1:  67%|██████▋   | 284/424 [00:39<00:19,  7.29batch/s, Loss=0.0801]#015Epoch 1/1:  67%|██████▋   | 284/424 [00:39<00:19,  7.29batch/s, Loss=0.0643]#015Epoch 1/1:  67%|██████▋   | 285/424 [00:39<00:19,  7.28batch/s, Loss=0.0643]#015Epoch 1/1:  67%|██████▋   | 285/424 [00:40<00:19,  7.28batch/s, Loss=0.0871]#015Epoch 1/1:  67%|██████▋   | 286/424 [00:40<00:19,  7.18batch/s, Loss=0.0871]#015Epoch 1/1:  67%|██████▋   | 286/424 [00:40<00:19,  7.18batch/s, Loss=0.0856]#015Epoch 1/1:  68%|██████▊   | 287/424 [00:40<00:19,  7.17batch/s, Loss=0.0856]#015Epoch 1/1:  68%|██████▊   | 287/424 [00:40<00:19,  7.17batch/s, Loss=0.098] #015Epoch 1/1:  68%|██████▊   | 288/424 [00:40<00:19,  7.16batch/s, Loss=0.098]#015Epoch 1/1:  68%|██████▊   | 288/424 [00:40<00:19,  7.16batch/s, Loss=0.0689]#015Epoch 1/1:  68%|██████▊   | 289/424 [00:40<00:18,  7.19batch/s, Loss=0.0689]#015Epoch 1/1:  68%|██████▊   | 289/424 [00:40<00:18,  7.19batch/s, Loss=0.0978]#015Epoch 1/1:  68%|██████▊   | 290/424 [00:40<00:18,  7.09batch/s, Loss=0.0978]#015Epoch 1/1:  68%|██████▊   | 290/424 [00:40<00:18,  7.09batch/s, Loss=0.0724]#015Epoch 1/1:  69%|██████▊   | 291/424 [00:40<00:18,  7.10batch/s, Loss=0.0724]#015Epoch 1/1:  69%|██████▊   | 291/424 [00:40<00:18,  7.10batch/s, Loss=0.0656]#015Epoch 1/1:  69%|██████▉   | 292/424 [00:40<00:18,  7.16batch/s, Loss=0.0656]#015Epoch 1/1:  69%|██████▉   | 292/424 [00:41<00:18,  7.16batch/s, Loss=0.0789]#015Epoch 1/1:  69%|██████▉   | 293/424 [00:41<00:18,  7.12batch/s, Loss=0.0789]#015Epoch 1/1:  69%|██████▉   | 293/424 [00:41<00:18,  7.12batch/s, Loss=0.0782]#015Epoch 1/1:  69%|██████▉   | 294/424 [00:4\u001b[0m\n"
     ]
    },
    {
     "name": "stdout",
     "output_type": "stream",
     "text": [
      "\u001b[34m1<00:18,  7.16batch/s, Loss=0.0782]#015Epoch 1/1:  69%|██████▉   | 294/424 [00:41<00:18,  7.16batch/s, Loss=0.101] #015Epoch 1/1:  70%|██████▉   | 295/424 [00:41<00:18,  7.11batch/s, Loss=0.101]#015Epoch 1/1:  70%|██████▉   | 295/424 [00:41<00:18,  7.11batch/s, Loss=0.0705]#015Epoch 1/1:  70%|██████▉   | 296/424 [00:41<00:17,  7.15batch/s, Loss=0.0705]#015Epoch 1/1:  70%|██████▉   | 296/424 [00:41<00:17,  7.15batch/s, Loss=0.0922]#015Epoch 1/1:  70%|███████   | 297/424 [00:41<00:17,  7.18batch/s, Loss=0.0922]#015Epoch 1/1:  70%|███████   | 297/424 [00:41<00:17,  7.18batch/s, Loss=0.0673]#015Epoch 1/1:  70%|███████   | 298/424 [00:41<00:17,  7.15batch/s, Loss=0.0673]#015Epoch 1/1:  70%|███████   | 298/424 [00:41<00:17,  7.15batch/s, Loss=0.0963]#015Epoch 1/1:  71%|███████   | 299/424 [00:41<00:17,  7.15batch/s, Loss=0.0963]#015Epoch 1/1:  71%|███████   | 299/424 [00:42<00:17,  7.15batch/s, Loss=0.0758]#015Epoch 1/1:  71%|███████   | 300/424 [00:42<00:17,  7.21batch/s, Loss=0.0758]#015Epoch 1/1:  71%|███████   | 300/424 [00:42<00:17,  7.21batch/s, Loss=0.105] #015Epoch 1/1:  71%|███████   | 301/424 [00:42<00:17,  7.21batch/s, Loss=0.105]#015Epoch 1/1:  71%|███████   | 301/424 [00:42<00:17,  7.21batch/s, Loss=0.0896]#015Epoch 1/1:  71%|███████   | 302/424 [00:42<00:16,  7.20batch/s, Loss=0.0896]#015Epoch 1/1:  71%|███████   | 302/424 [00:42<00:16,  7.20batch/s, Loss=0.08]  #015Epoch 1/1:  71%|███████▏  | 303/424 [00:42<00:16,  7.12batch/s, Loss=0.08]#015Epoch 1/1:  71%|███████▏  | 303/424 [00:42<00:16,  7.12batch/s, Loss=0.102]#015Epoch 1/1:  72%|███████▏  | 304/424 [00:42<00:16,  7.15batch/s, Loss=0.102]#015Epoch 1/1:  72%|███████▏  | 304/424 [00:42<00:16,  7.15batch/s, Loss=0.0744]#015Epoch 1/1:  72%|███████▏  | 305/424 [00:42<00:16,  7.05batch/s, Loss=0.0744]#015Epoch 1/1:  72%|███████▏  | 305/424 [00:42<00:16,  7.05batch/s, Loss=0.0791]#015Epoch 1/1:  72%|███████▏  | 306/424 [00:42<00:16,  7.14batch/s, Loss=0.0791]#015Epoch 1/1:  72%|███████▏  | 306/424 [00:43<00:16,  7.14batch/s, Loss=0.0744]#015Epoch 1/1:  72%|███████▏  | 307/424 [00:43<00:16,  7.21batch/s, Loss=0.0744]#015Epoch 1/1:  72%|███████▏  | 307/424 [00:43<00:16,  7.21batch/s, Loss=0.0612]#015Epoch 1/1:  73%|███████▎  | 308/424 [00:43<00:15,  7.27batch/s, Loss=0.0612]#015Epoch 1/1:  73%|███████▎  | 308/424 [00:43<00:15,  7.27batch/s, Loss=0.0657]#015Epoch 1/1:  73%|███████▎  | 309/424 [00:43<00:15,  7.29batch/s, Loss=0.0657]#015Epoch 1/1:  73%|███████▎  | 309/424 [00:43<00:15,  7.29batch/s, Loss=0.0811]#015Epoch 1/1:  73%|███████▎  | 310/424 [00:43<00:15,  7.34batch/s, Loss=0.0811]#015Epoch 1/1:  73%|███████▎  | 310/424 [00:43<00:15,  7.34batch/s, Loss=0.0773]#015Epoch 1/1:  73%|███████▎  | 311/424 [00:43<00:15,  7.22batch/s, Loss=0.0773]#015Epoch 1/1:  73%|███████▎  | 311/424 [00:43<00:15,  7.22batch/s, Loss=0.0779]#015Epoch 1/1:  74%|███████▎  | 312/424 [00:43<00:15,  7.22batch/s, Loss=0.0779]#015Epoch 1/1:  74%|███████▎  | 312/424 [00:43<00:15,  7.22batch/s, Loss=0.0764]#015Epoch 1/1:  74%|███████▍  | 313/424 [00:43<00:15,  7.20batch/s, Loss=0.0764]#015Epoch 1/1:  74%|███████▍  | 313/424 [00:43<00:15,  7.20batch/s, Loss=0.0864]#015Epoch 1/1:  74%|███████▍  | 314/424 [00:43<00:15,  7.04batch/s, Loss=0.0864]#015Epoch 1/1:  74%|███████▍  | 314/424 [00:44<00:15,  7.04batch/s, Loss=0.0927]#015Epoch 1/1:  74%|███████▍  | 315/424 [00:44<00:15,  7.03batch/s, Loss=0.0927]#015Epoch 1/1:  74%|███████▍  | 315/424 [00:44<00:15,  7.03batch/s, Loss=0.105] #015Epoch 1/1:  75%|███████▍  | 316/424 [00:44<00:15,  7.09batch/s, Loss=0.105]#015Epoch 1/1:  75%|███████▍  | 316/424 [00:44<00:15,  7.09batch/s, Loss=0.0827]#015Epoch 1/1:  75%|███████▍  | 317/424 [00:44<00:15,  7.10batch/s, Loss=0.0827]#015Epoch 1/1:  75%|███████▍  | 317/424 [00:44<00:15,  7.10batch/s, Loss=0.103] #015Epoch 1/1:  75%|███████▌  | 318/424 [00:44<00:14,  7.20batch/s, Loss=0.103]#015Epoch 1/1:  75%|███████▌  | 318/424 [00:44<00:14,  7.20batch/s, Loss=0.0776]#015Epoch 1/1:  75%|███████▌  | 319/424 [00:44<00:14,  7.27batch/s, Loss=0.0776]#015Epoch 1/1:  75%|███████▌  | 319/424 [00:44<00:14,  7.27batch/s, Loss=0.115] #015Epoch 1/1:  75%|███████▌  | 320/424 [00:44<00:14,  7.19batch/s, Loss=0.115]#015Epoch 1/1:  75%|███████▌  | 320/424 [00:44<00:14,  7.19batch/s, Loss=0.105]#015Epoch 1/1:  76%|███████▌  | 321/424 [00:44<00:14,  7.23batch/s, Loss=0.105]#015Epoch 1/1:  76%|███████▌  | 321/424 [00:45<00:14,  7.23batch/s, Loss=0.0913]#015Epoch 1/1:  76%|███████▌  | 322/424 [00:45<00:14,  7.19batch/s, Loss=0.0913]#015Epoch 1/1:  76%|███████▌  | 322/424 [00:45<00:14,  7.19batch/s, Loss=0.0811]#015Epoch 1/1:  76%|███████▌  | 323/424 [00:45<00:14,  7.20batch/s, Loss=0.0811]#015Epoch 1/1:  76%|███████▌  | 323/424 [00:45<00:14,  7.20batch/s, Loss=0.0847]#015Epoch 1/1:  76%|███████▋  | 324/424 [00:45<00:13,  7.18batch/s, Loss=0.0847]#015Epoch 1/1:  76%|███████▋  | 324/424 [00:45<00:13,  7.18batch/s, Loss=0.101] #015Epoch 1/1:  77%|███████▋  | 325/424 [00:45<00:13,  7.20batch/s, Loss=0.101]#015Epoch 1/1:  77%|███████▋  | 325/424 [00:45<00:13,  7.20batch/s, Loss=0.0997]#015Epoch 1/1:  77%|███████▋  | 326/424 [00:45<00:13,  7.21batch/s, Loss=0.0997]#015Epoch 1/1:  77%|███████▋  | 326/424 [00:45<00:13,  7.21batch/s, Loss=0.072] #015Epoch 1/1:  77%|███████▋  | 327/424 [00:45<00:13,  7.24batch/s, Loss=0.072]#015Epoch 1/1:  77%|███████▋  | 327/424 [00:45<00:13,  7.24batch/s, Loss=0.0949]#015Epoch 1/1:  77%|███████▋  | 328/424 [00:45<00:13,  7.17batch/s, Loss=0.0949]#015Epoch 1/1:  77%|███████▋  | 328/424 [00:46<00:13,  7.17batch/s, Loss=0.0707]#015Epoch 1/1:  78%|███████▊  | 329/424 [00:46<00:13,  7.19batch/s, Loss=0.0707]#015Epoch 1/1:  78%|███████▊  | 329/424 [00:46<00:13,  7.19batch/s, Loss=0.0741]#015Epoch 1/1:  78%|███████▊  | 330/424 [00:46<00:13,  7.13batch/s, Loss=0.0741]#015Epoch 1/1:  78%|███████▊  | 330/424 [00:46<00:13,  7.13batch/s, Loss=0.0906]#015Epoch 1/1:  78%|███████▊  | 331/424 [00:46<00:12,  7.21batch/s, Loss=0.0906]#015Epoch 1/1:  78%|███████▊  | 331/424 [00:46<00:12,  7.21batch/s, Loss=0.0766]#015Epoch 1/1:  78%|███████▊  | 332/424 [00:46<00:12,  7.15batch/s, Loss=0.0766]#015Epoch 1/1:  78%|███████▊  | 332/424 [00:46<00:12,  7.15batch/s, Loss=0.0835]#015Epoch 1/1:  79%|███████▊  | 333/424 [00:46<00:12,  7.14batch/s, Loss=0.0835]#015Epoch 1/1:  79%|███████▊  | 333/424 [00:46<00:12,  7.14batch/s, Loss=0.105] #015Epoch 1/1:  79%|███████▉  | 334/424 [00:46<00:12,  7.13batch/s, Loss=0.105]#015Epoch 1/1:  79%|███████▉  | 334/424 [00:46<00:12,  7.13batch/s, Loss=0.0699]#015Epoch 1/1:  79%|███████▉  | 335/424 [00:46<00:12,  7.18batch/s, Loss=0.0699]#015Epoch 1/1:  79%|███████▉  | 335/424 [00:47<00:12,  7.18batch/s, Loss=0.0718]#015Epoch 1/1:  79%|███████▉  | 336/424 [00:47<00:12,  7.13batch/s, Loss=0.0718]#015Epoch 1/1:  79%|███████▉  | 336/424 [00:47<00:12,  7.13batch/s, Loss=0.0841]#015Epoch 1/1:  79%|███████▉  | 337/424 [00:47<00:12,  7.20batch/s, Loss=0.0841]#015Epoch 1/1:  79%|███████▉  | 337/424 [00:47<00:12,  7.20batch/s, Loss=0.0923]#015Epoch 1/1:  80%|███████▉  | 338/424 [00:47<00:11,  7.17batch/s, Loss=0.0923]#015Epoch 1/1:  80%|███████▉  | 338/424 [00:47<00:11,  7.17batch/s, Loss=0.0819]#015Epoch 1/1:  80%|███████▉  | 339/424 [00:47<00:11,  7.26batch/s, Loss=0.0819]#015Epoch 1/1:  80%|███████▉  | 339/424 [00:47<00:11,  7.26batch/s, Loss=0.0799]#015Epoch 1/1:  80%|████████  | 340/424 [00:47<00:11,  7.23batch/s, Loss=0.0799]#015Epoch 1/1:  80%|████████  | 340/424 [00:47<00:11,  7.23batch/s, Loss=0.0853]#015Epoch 1/1:  80%|████████  | 341/424 [00:47<00:11,  7.15batch/s, Loss=0.0853]#015Epoch 1/1:  80%|████████  | 341/424 [00:47<00:11,  7.15batch/s, Loss=0.0687]#015Epoch 1/1:  81%|████████  | 342/424 [00:47<00:11,  7.16batch/s, Loss=0.0687]#015Epoch 1/1:  81%|████████  | 342/424 [00:48<00:11,  7.16batch/s, Loss=0.0844]#015Epoch 1/1:  81%|████████  | 343/424 [00:48<00:11,  7.23batch/s, Loss=0.0844]#015Epoch 1/1:  81%|████████  | 343/424 [00:48<00:11,  7.23batch/s, Loss=0.0734]#015Epoch 1/1:  81%|████████  | 344/424 [00:48<00:11,  7.23batch/s, Loss=0.0734]#015Epoch 1/1:  81%|████████  | 344/424 [00:48<00:11,  7.23batch/s, Loss=0.0732]#015Epoch 1/1:  81%|████████▏ | 345/424 [00:48<00:11,  7.17batch/s, Loss=0.0732]#015Epoch 1/1:  81%|████████▏ | 345/424 [00:48<00:11,  7.17batch/s, Loss=0.0874]#015Epoch 1/1:  82%|████████▏ | 346/424 [00:48<00:10,  7.09batch/s, Loss=0.0874]#015Epoch 1/1:  82%|████████▏ | 346/424 [00:48<00:10,  7.09batch/s, Loss=0.0984]#015Epoch 1/1:  82%|████████▏ | 347/424 [00:48<00:10,  7.12batch/s, Loss=0.0984]#015Epoch 1/1:  82%|████████▏ | 347/424 [00:48<00:10,  7.12batch/s, Loss=0.0707]#015Epoch 1/1:  82%|████████▏ | 348/424 [00:48<00:10,  7.12batch/s, Loss=0.0707]#015Epoch 1/1:  82%|████████▏ | 348/424 [00:48<00:10,  7.12batch/s, Loss=0.0862]#015Epoch 1/1:  82%|████████▏ | 349/424 [00:48<00:10,  7.15batch/s, Loss=0.0862]#015Epoch 1/1:  82%|████████▏ | 349/424 [00:48<00:10,  7.15batch/s, Loss=0.099] #015Epoch 1/1:  83%|████████▎ | 350/424 [00:48<00:10,  7.24batch/s, Loss=0.099]#015Epoch 1/1:  83%|████████▎ | 350/424 [00:49<00:10,  7.24batch/s, Loss=0.0672]#015Epoch 1/1:  83%|████████▎ | 351/424 [00:49<00:10,  7.28batch/s, Loss=0.0672]#015Epoch 1/1:  83%|████████▎ | 351/424 [00:49<00:10,  7.28batch/s, Loss=0.0708]#015Epoch 1/1:  83%|████████▎ | 352/424 [00:49<00:09,  7.25batch/s, Loss=0.0708]#015Epoch 1/1:  83%|████████▎ | 352/424 [00:49<00:09,  7.25batch/s, Loss=0.0786]#015Epoch 1/1:  83%|████████▎ | 353/424 [00:49<00:09,  7.18batch/s, Loss=0.0786]#015Epoch 1/1:  83%|████████▎ | 353/424 [00:49<00:09,  7.18batch/s, Loss=0.104] #015Epoch 1/1:  83%|████████▎ | 354/424 [00:49<00:09,  7.20batch/s, Loss=0.104]#015Epoch 1/1:  83%|████████▎ | 354/424 [00:49<00:09,  7.20batch/s, Loss=0.0763]#015Epoch 1/1:  84%|████████▎ | 355/424 [00:49<00:09,  7.23batch/s, Loss=0.0763]#015Epoch 1/1:  84%|████████▎ | 355/424 [00:49<00:09,  7.23batch/s, Loss=0.0837]#015Epoch 1/1:  84%|████████▍ | 356/424 [00:49<00:09,  7.15batch/s, Loss=0.0837]#015Epoch 1/1:  84%|████████▍ | 356/424 [00:49<00:09,  7.15batch/s, Loss=0.0755]#015Epoch 1/1:  84%|████████▍ | 357/424 [00:49<00:09,  7.17batch/s, Loss=0.0755]#015Epoch 1/1:  84%|████████▍ | 357/424 [00:50<00:09,  7.17batch/s, Loss=0.0942]#015Epoch 1/1:  84%|████████▍ | 358/424 [00:50<00:09,  7.16batch/s, Loss=0.0942]#015Epoch 1/1:  84%|████████▍ | 358/424 [00:50<00:09,  7.16batch/s, Loss=0.0666]#015Epoch 1/1:  85%|████████▍ | 359/424 [00:50<00:09,  7.17batch/s, Loss=0.0666]#015Epoch 1/1:  85%|████████▍ | 359/424 [00:50<00:09,  7.17batch/s, Loss=0.082] #015Epoch 1/1:  85%|████████▍ | 360/424 [00:50<00:08,  7.21batch/s, Loss=0.082]#015Epoch 1/1:  85%|████████▍ | 360/424 [00:50<00:08,  7.21batch/s, Loss=0.0827]#015Epoch 1/1:  85%|████████▌ | 361/424 [00:50<00:08,  7.24batch/s, Loss=0.0827]#015Epoch 1/1:  85%|████████▌ | 361/424 [00:50<00:08,  7.24batch/s, Loss=0.0781]#015Epoch 1/1:  85%|████████▌ | 362/424 [00:50<00:08,  7.16batch/s, Loss=0.0781]#015Epoch 1/1:  85%|████████▌ | 362/424 [00:50<00:08,  7.16batch/s, Loss=0.0948]#015Epoch 1/1:  86%|████████▌ | 363/424 [00:50<00:08,  7.20batch/s, Loss=0.0948]#015Epoch 1/1:  86%|████████▌ | 363/424 [00:50<00:08,  7.20batch/s, Loss=0.098] #015Epoch 1/1:  86%|████████▌ | 364/424 [00:50<00:08,  7.25batch/s, Loss=0.098]#015Epoch 1/1:  86%|████████▌ | 364/424 [00:51<00:08,  7.25batch/s, Loss=0.0696]#015Epoch 1/1:  86%|████████▌ | 365/424 [00:51<00:08,  7.15batch/s, Loss=0.0696]#015Epoch 1/1:  86%|████████▌ | 365/424 [00:51<00:08,  7.15batch/s, Loss=0.0756]#015Epoch 1/1:  86%|████████▋ | 366/424 [00:51<00:08,  7.09batch/s, Loss=0.0756]#015Epoch 1/1:  86%|████████▋ | 366/424 [00:51<00:08,  7.09batch/s, Loss=0.0829]#015Epoch 1/1:  87%|████████▋ | 367/424 [00:51<00:07,  7.17batch/s, Loss=0.0829]#015Epoch 1/1:  87%|████████▋ | 367/424 [00:51<00:07,  7.17batch/s, Loss=0.0729]#015Epoch 1/1:  87%|████████▋ | 368/424 [00:51<00:07,  7.15batch/s, Loss=0.0729]#015Epoch 1/1:  87%|████████▋ | 368/424 [00:51<00:07,  7.15batch/s, Loss=0.0883]#015Epoch 1/1:  87%|████████▋ | 369/424 [00:51<00:07,  7.14batch/s, Loss=0.0883]#015Epoch 1/1:  87%|████████▋ | 369/424 [00:51<00:07,  7.14batch/s, Loss=0.0767]#015Epoch 1/1:  87%|████████▋ | 370/424 [00:51<00:07,  7.18batch/s, Loss=0.0767]#015Epoch 1/1:  87%|████████▋ | 370/424 [00:51<00:07,  7.18batch/s, Loss=0.0922]#015Epoch 1/1:  88%|████████▊ | 371/424 [00:51<00:07,  7.17batch/s, Loss=0.0922]#015Epoch 1/1:  88%|████████▊ | 371/424 [00:52<00:07,  7.17batch/s, Loss=0.0662]#015Epoch 1/1:  88%|████████▊ | 372/424 [00:52<00:07,  7.18batch/s, Loss=0.0662]#015Epoch 1/1:  88%|████████▊ | 372/424 [00:52<00:07,  7.18batch/s, Loss=0.0847]#015Epoch 1/1:  88%|████████▊ | 373/424 [00:52<00:07,  7.05batch/s, Loss=0.0847]#015Epoch 1/1:  88%|████████▊ | 373/424 [00:52<00:07,  7.05batch/s, Loss=0.1]   #015Epoch 1/1:  88%|████████▊ | 374/424 [00:52<00:06,  7.14batch/s, Loss=0.1]#015Epoch 1/1:  88%|████████▊ | 374/424 [00:52<00:06,  7.14batch/s, Loss=0.0771]#015Epoch 1/1:  88%|████████▊ | 375/424 [00:52<00:06,  7.23batch/s, Loss=0.0771]#015Epoch 1/1:  88%|████████▊ | 375/424 [00:52<00:06,  7.23batch/s, Loss=0.076] #015Epoch 1/1:  89%|████████▊ | 376/424 [00:52<00:06,  7.15batch/s, Loss=0.076]#015Epoch 1/1:  89%|████████▊ | 376/424 [00:52<00:06,  7.15batch/s, Loss=0.0676]#015Epoch 1/1:  89%|████████▉ | 377/424 [00:52<00:06,  7.14batch/s, Loss=0.0676]#015Epoch 1/1:  89%|████████▉ | 377/424 [00:52<00:06,  7.14batch/s, Loss=0.0823]#015Epoch 1/1:  89%|████████▉ | 378/424 [00:52<00:06,  7.22batch/s, Loss=0.0823]#015Epoch 1/1:  89%|████████▉ | 378/424 [00:53<00:06,  7.22batch/s, Loss=0.084] #015Epoch 1/1:  89%|████████▉ | 379/424 [00:53<00:06,  7.14batch/s, Loss=0.084]#015Epoch 1/1:  89%|████████▉ | 379/424 [00:53<00:06,  7.14batch/s, Loss=0.0677]#015Epoch 1/1:  90%|████████▉ | 380/424 [00:53<00:06,  7.11batch/s, Loss=0.0677]#015Epoch 1/1:  90%|████████▉ | 380/424 [00:53<00:06,  7.11batch/s, Loss=0.0661]#015Epoch 1/1:  90%|████████▉ | 381/424 [00:53<00:06,  7.11batch/s, Loss=0.0661]#015Epoch 1/1:  90%|████████▉ | 381/424 [00:53<00:06,  7.11batc\u001b[0m\n",
      "\u001b[34mh/s, Loss=0.0732]#015Epoch 1/1:  90%|█████████ | 382/424 [00:53<00:05,  7.15batch/s, Loss=0.0732]#015Epoch 1/1:  90%|█████████ | 382/424 [00:53<00:05,  7.15batch/s, Loss=0.0708]#015Epoch 1/1:  90%|█████████ | 383/424 [00:53<00:05,  7.17batch/s, Loss=0.0708]#015Epoch 1/1:  90%|█████████ | 383/424 [00:53<00:05,  7.17batch/s, Loss=0.0749]#015Epoch 1/1:  91%|█████████ | 384/424 [00:53<00:05,  7.16batch/s, Loss=0.0749]#015Epoch 1/1:  91%|█████████ | 384/424 [00:53<00:05,  7.16batch/s, Loss=0.0575]#015Epoch 1/1:  91%|█████████ | 385/424 [00:53<00:05,  7.16batch/s, Loss=0.0575]#015Epoch 1/1:  91%|█████████ | 385/424 [00:54<00:05,  7.16batch/s, Loss=0.0832]#015Epoch 1/1:  91%|█████████ | 386/424 [00:54<00:05,  7.20batch/s, Loss=0.0832]#015Epoch 1/1:  91%|█████████ | 386/424 [00:54<00:05,  7.20batch/s, Loss=0.0774]#015Epoch 1/1:  91%|█████████▏| 387/424 [00:54<00:05,  7.16batch/s, Loss=0.0774]#015Epoch 1/1:  91%|█████████▏| 387/424 [00:54<00:05,  7.16batch/s, Loss=0.0722]#015Epoch 1/1:  92%|█████████▏| 388/424 [00:54<00:05,  7.14batch/s, Loss=0.0722]#015Epoch 1/1:  92%|█████████▏| 388/424 [00:54<00:05,  7.14batch/s, Loss=0.0941]#015Epoch 1/1:  92%|█████████▏| 389/424 [00:54<00:04,  7.06batch/s, Loss=0.0941]#015Epoch 1/1:  92%|█████████▏| 389/424 [00:54<00:04,  7.06batch/s, Loss=0.0768]#015Epoch 1/1:  92%|█████████▏| 390/424 [00:54<00:04,  7.10batch/s, Loss=0.0768]#015Epoch 1/1:  92%|█████████▏| 390/424 [00:54<00:04,  7.10batch/s, Loss=0.0814]#015Epoch 1/1:  92%|█████████▏| 391/424 [00:54<00:04,  7.19batch/s, Loss=0.0814]#015Epoch 1/1:  92%|█████████▏| 391/424 [00:54<00:04,  7.19batch/s, Loss=0.0834]#015Epoch 1/1:  92%|█████████▏| 392/424 [00:54<00:04,  7.19batch/s, Loss=0.0834]#015Epoch 1/1:  92%|█████████▏| 392/424 [00:54<00:04,  7.19batch/s, Loss=0.0747]#015Epoch 1/1:  93%|█████████▎| 393/424 [00:54<00:04,  7.19batch/s, Loss=0.0747]#015Epoch 1/1:  93%|█████████▎| 393/424 [00:55<00:04,  7.19batch/s, Loss=0.0927]#015Epoch 1/1:  93%|█████████▎| 394/424 [00:55<00:04,  7.20batch/s, Loss=0.0927]#015Epoch 1/1:  93%|█████████▎| 394/424 [00:55<00:04,  7.20batch/s, Loss=0.07]  #015Epoch 1/1:  93%|█████████▎| 395/424 [00:55<00:04,  7.21batch/s, Loss=0.07]#015Epoch 1/1:  93%|█████████▎| 395/424 [00:55<00:04,  7.21batch/s, Loss=0.0685]#015Epoch 1/1:  93%|█████████▎| 396/424 [00:55<00:03,  7.23batch/s, Loss=0.0685]#015Epoch 1/1:  93%|█████████▎| 396/424 [00:55<00:03,  7.23batch/s, Loss=0.0876]#015Epoch 1/1:  94%|█████████▎| 397/424 [00:55<00:03,  7.14batch/s, Loss=0.0876]#015Epoch 1/1:  94%|█████████▎| 397/424 [00:55<00:03,  7.14batch/s, Loss=0.0781]#015Epoch 1/1:  94%|█████████▍| 398/424 [00:55<00:03,  7.15batch/s, Loss=0.0781]#015Epoch 1/1:  94%|█████████▍| 398/424 [00:55<00:03,  7.15batch/s, Loss=0.0652]#015Epoch 1/1:  94%|█████████▍| 399/424 [00:55<00:03,  7.15batch/s, Loss=0.0652]#015Epoch 1/1:  94%|█████████▍| 399/424 [00:55<00:03,  7.15batch/s, Loss=0.0899]#015Epoch 1/1:  94%|█████████▍| 400/424 [00:55<00:03,  7.18batch/s, Loss=0.0899]#015Epoch 1/1:  94%|█████████▍| 400/424 [00:56<00:03,  7.18batch/s, Loss=0.0803]#015Epoch 1/1:  95%|█████████▍| 401/424 [00:56<00:03,  7.19batch/s, Loss=0.0803]#015Epoch 1/1:  95%|█████████▍| 401/424 [00:56<00:03,  7.19batch/s, Loss=0.0744]#015Epoch 1/1:  95%|█████████▍| 402/424 [00:56<00:03,  7.16batch/s, Loss=0.0744]#015Epoch 1/1:  95%|█████████▍| 402/424 [00:56<00:03,  7.16batch/s, Loss=0.111] #015Epoch 1/1:  95%|█████████▌| 403/424 [00:56<00:02,  7.16batch/s, Loss=0.111]#015Epoch 1/1:  95%|█████████▌| 403/424 [00:56<00:02,  7.16batch/s, Loss=0.0894]#015Epoch 1/1:  95%|█████████▌| 404/424 [00:56<00:02,  7.20batch/s, Loss=0.0894]#015Epoch 1/1:  95%|█████████▌| 404/424 [00:56<00:02,  7.20batch/s, Loss=0.109] #015Epoch 1/1:  96%|█████████▌| 405/424 [00:56<00:02,  7.21batch/s, Loss=0.109]#015Epoch 1/1:  96%|█████████▌| 405/424 [00:56<00:02,  7.21batch/s, Loss=0.0867]#015Epoch 1/1:  96%|█████████▌| 406/424 [00:56<00:02,  7.18batch/s, Loss=0.0867]#015Epoch 1/1:  96%|█████████▌| 406/424 [00:56<00:02,  7.18batch/s, Loss=0.0639]#015Epoch 1/1:  96%|█████████▌| 407/424 [00:56<00:02,  7.22batch/s, Loss=0.0639]#015Epoch 1/1:  96%|█████████▌| 407/424 [00:57<00:02,  7.22batch/s, Loss=0.0664]#015Epoch 1/1:  96%|█████████▌| 408/424 [00:57<00:02,  7.24batch/s, Loss=0.0664]#015Epoch 1/1:  96%|█████████▌| 408/424 [00:57<00:02,  7.24batch/s, Loss=0.0732]#015Epoch 1/1:  96%|█████████▋| 409/424 [00:57<00:02,  7.16batch/s, Loss=0.0732]#015Epoch 1/1:  96%|█████████▋| 409/424 [00:57<00:02,  7.16batch/s, Loss=0.078] #015Epoch 1/1:  97%|█████████▋| 410/424 [00:57<00:01,  7.16batch/s, Loss=0.078]#015Epoch 1/1:  97%|█████████▋| 410/424 [00:57<00:01,  7.16batch/s, Loss=0.0609]#015Epoch 1/1:  97%|█████████▋| 411/424 [00:57<00:01,  7.16batch/s, Loss=0.0609]#015Epoch 1/1:  97%|█████████▋| 411/424 [00:57<00:01,  7.16batch/s, Loss=0.0622]#015Epoch 1/1:  97%|█████████▋| 412/424 [00:57<00:01,  7.22batch/s, Loss=0.0622]#015Epoch 1/1:  97%|█████████▋| 412/424 [00:57<00:01,  7.22batch/s, Loss=0.0997]#015Epoch 1/1:  97%|█████████▋| 413/424 [00:57<00:01,  7.22batch/s, Loss=0.0997]#015Epoch 1/1:  97%|█████████▋| 413/424 [00:57<00:01,  7.22batch/s, Loss=0.0703]#015Epoch 1/1:  98%|█████████▊| 414/424 [00:57<00:01,  7.20batch/s, Loss=0.0703]#015Epoch 1/1:  98%|█████████▊| 414/424 [00:58<00:01,  7.20batch/s, Loss=0.0815]#015Epoch 1/1:  98%|█████████▊| 415/424 [00:58<00:01,  7.11batch/s, Loss=0.0815]#015Epoch 1/1:  98%|█████████▊| 415/424 [00:58<00:01,  7.11batch/s, Loss=0.0834]#015Epoch 1/1:  98%|█████████▊| 416/424 [00:58<00:01,  7.11batch/s, Loss=0.0834]#015Epoch 1/1:  98%|█████████▊| 416/424 [00:58<00:01,  7.11batch/s, Loss=0.0743]#015Epoch 1/1:  98%|█████████▊| 417/424 [00:58<00:00,  7.12batch/s, Loss=0.0743]#015Epoch 1/1:  98%|█████████▊| 417/424 [00:58<00:00,  7.12batch/s, Loss=0.0753]#015Epoch 1/1:  99%|█████████▊| 418/424 [00:58<00:00,  7.21batch/s, Loss=0.0753]#015Epoch 1/1:  99%|█████████▊| 418/424 [00:58<00:00,  7.21batch/s, Loss=0.0779]#015Epoch 1/1:  99%|█████████▉| 419/424 [00:58<00:00,  7.19batch/s, Loss=0.0779]#015Epoch 1/1:  99%|█████████▉| 419/424 [00:58<00:00,  7.19batch/s, Loss=0.0649]#015Epoch 1/1:  99%|█████████▉| 420/424 [00:58<00:00,  7.28batch/s, Loss=0.0649]#015Epoch 1/1:  99%|█████████▉| 420/424 [00:58<00:00,  7.28batch/s, Loss=0.086] #015Epoch 1/1:  99%|█████████▉| 421/424 [00:58<00:00,  7.31batch/s, Loss=0.086]#015Epoch 1/1:  99%|█████████▉| 421/424 [00:59<00:00,  7.31batch/s, Loss=0.0845]#015Epoch 1/1: 100%|█████████▉| 422/424 [00:59<00:00,  7.31batch/s, Loss=0.0845]#015Epoch 1/1: 100%|█████████▉| 422/424 [00:59<00:00,  7.31batch/s, Loss=0.0846]#015Epoch 1/1: 100%|█████████▉| 423/424 [00:59<00:00,  7.22batch/s, Loss=0.0846]#015Epoch 1/1: 100%|█████████▉| 423/424 [00:59<00:00,  7.22batch/s, Loss=0.084] #015Epoch 1/1: 100%|██████████| 424/424 [00:59<00:00,  7.16batch/s, Loss=0.084]\u001b[0m\n",
      "\u001b[34mEpoch 1/1, Average Loss: 0.15029549525769534\u001b[0m\n"
     ]
    },
    {
     "name": "stdout",
     "output_type": "stream",
     "text": [
      "\u001b[34mEpoch 1/1, Average Validation Loss: 0.07658720958345341\u001b[0m\n",
      "\u001b[34mSaving model..\u001b[0m\n",
      "\u001b[34mTesting the model /opt/ml/model/checkpoint_epoch_1_valloss_0.07658720958345341.ckpt\u001b[0m\n",
      "\u001b[34mInitializing LinkPredictor with num_trigger_states=45, num_actions=47\u001b[0m\n",
      "\u001b[34mModel loaded\u001b[0m\n",
      "\u001b[34mTraining complete\u001b[0m\n",
      "\n",
      "2024-08-05 04:08:45 Uploading - Uploading generated training model\n",
      "2024-08-05 04:08:45 Completed - Training job completed\n",
      "Training seconds: 355\n",
      "Billable seconds: 355\n"
     ]
    }
   ],
   "source": [
    "#Create an estimator object for running a training job\n",
    "estimator = sage.algorithm.AlgorithmEstimator(\n",
    "    algorithm_arn=algo_arn,\n",
    "    base_job_name=\"rule-recommendation-engine-for-automation\",\n",
    "    role=role,\n",
    "    train_instance_count=1,\n",
    "    train_instance_type=training_instance_type,\n",
    "    input_mode=\"File\",\n",
    "    output_path=output_location,\n",
    "    sagemaker_session=sagemaker_session,\n",
    "    instance_count=1,\n",
    "    instance_type=training_instance_type\n",
    ")\n",
    "\n",
    "#Run the training job.\n",
    "estimator.fit({\"training\": training_input})"
   ]
  },
  {
   "cell_type": "markdown",
   "id": "b3043cb2",
   "metadata": {},
   "source": [
    "See this [blog-post](https://aws.amazon.com/blogs/machine-learning/easily-monitor-and-visualize-metrics-while-training-models-on-amazon-sagemaker/) for more information how to visualize metrics during the process. You can also open the training job from [Amazon SageMaker console](https://us-east-2.console.aws.amazon.com/sagemaker/home?region=us-east-2#/jobs/) and monitor the metrics/logs in **Monitor** section."
   ]
  },
  {
   "cell_type": "code",
   "execution_count": null,
   "id": "c0ed68dd-54de-41c9-867c-ad740e5845f0",
   "metadata": {
    "tags": []
   },
   "outputs": [],
   "source": [
    "#output is available on following path\n",
    "estimator.output_path"
   ]
  },
  {
   "cell_type": "markdown",
   "id": "87b61c88",
   "metadata": {},
   "source": [
    "#### 3.3 Inspect the Output in S3"
   ]
  },
  {
   "cell_type": "code",
   "execution_count": null,
   "id": "ef4fc8e3-aedd-4a54-b272-b5d143c13238",
   "metadata": {
    "tags": []
   },
   "outputs": [],
   "source": [
    "parsed_url = urlparse(estimator.output_path)\n",
    "bucket_name = parsed_url.netloc\n",
    "file_key = parsed_url.path[1:]+'/'+estimator.latest_training_job.job_name+'/output/'+\"model.tar.gz\"\n",
    "\n",
    "s3_client = sagemaker_session.boto_session.client('s3')\n",
    "response = s3_client.get_object(Bucket = sagemaker_session.default_bucket(), Key = file_key) "
   ]
  },
  {
   "cell_type": "code",
   "execution_count": null,
   "id": "2bd7a0c5-aa1b-48d0-9c4e-326094ee47eb",
   "metadata": {
    "tags": []
   },
   "outputs": [],
   "source": [
    "bucketFolder = estimator.output_path.rsplit('/')[3] +'/Output/'+ estimator.latest_training_job.job_name+'/output/'+\"model.tar.gz\""
   ]
  },
  {
   "cell_type": "markdown",
   "id": "36a953b2",
   "metadata": {},
   "source": [
    "### 4. Deploy model and verify results"
   ]
  },
  {
   "cell_type": "markdown",
   "id": "97cbaa19",
   "metadata": {},
   "source": [
    "Now you can deploy the model for performing real-time inference."
   ]
  },
  {
   "cell_type": "code",
   "execution_count": null,
   "id": "daa5fb78",
   "metadata": {},
   "outputs": [],
   "source": [
    "role = get_execution_role()\n",
    "\n",
    "sagemaker_session = sage.Session()\n",
    "\n",
    "bucket=sagemaker_session.default_bucket()\n",
    "bucket"
   ]
  },
  {
   "cell_type": "code",
   "execution_count": null,
   "id": "6c024abf",
   "metadata": {},
   "outputs": [],
   "source": [
    "model_name='rule-recommendation-engine-for-automation'\n",
    "\n",
    "content_type='text/csv'\n",
    "\n",
    "real_time_inference_instance_type='ml.p3.2xlarge'\n",
    "batch_transform_inference_instance_type='ml.p3.2xlarge'"
   ]
  },
  {
   "cell_type": "markdown",
   "id": "ab6e3c80",
   "metadata": {},
   "source": [
    "#### 4.1 Deploy trained model"
   ]
  },
  {
   "cell_type": "code",
   "execution_count": null,
   "id": "8df4b201",
   "metadata": {},
   "outputs": [],
   "source": [
    "from sagemaker.serializers import CSVSerializer\n",
    "\n",
    "predictor = estimator.deploy(1, real_time_inference_instance_type)"
   ]
  },
  {
   "cell_type": "markdown",
   "id": "6c422a9d",
   "metadata": {},
   "source": [
    "#### 4.2 Create input payload"
   ]
  },
  {
   "cell_type": "code",
   "execution_count": null,
   "id": "24dfe791",
   "metadata": {},
   "outputs": [],
   "source": [
    "file_name = 'Input/inference/test_sam.csv'"
   ]
  },
  {
   "cell_type": "markdown",
   "id": "9e3233f7",
   "metadata": {},
   "source": [
    "#### 4.3 Perform real-time inference"
   ]
  },
  {
   "cell_type": "code",
   "execution_count": null,
   "id": "5a6fc0c0",
   "metadata": {},
   "outputs": [],
   "source": [
    "output_file_name = 'output/inf_output.csv'"
   ]
  },
  {
   "cell_type": "code",
   "execution_count": null,
   "id": "90a1c6a2",
   "metadata": {},
   "outputs": [
    {
     "name": "stdout",
     "output_type": "stream",
     "text": [
      "{\r\n",
      "    \"ContentType\": \"text/csv; charset=utf-8\",\r\n",
      "    \"InvokedProductionVariant\": \"AllTraffic\"\r\n",
      "}\r\n"
     ]
    }
   ],
   "source": [
    "!aws sagemaker-runtime invoke-endpoint \\\n",
    "    --endpoint-name $predictor.endpoint_name \\\n",
    "    --body fileb://$file_name \\\n",
    "    --content-type $content_type \\\n",
    "    --region $sagemaker_session.boto_region_name \\\n",
    "    $output_file_name"
   ]
  },
  {
   "cell_type": "markdown",
   "id": "cf4dbc64",
   "metadata": {},
   "source": [
    "#### 4.4 Check output"
   ]
  },
  {
   "cell_type": "code",
   "execution_count": 3,
   "id": "239c1c23",
   "metadata": {},
   "outputs": [
    {
     "data": {
      "text/html": [
       "<div>\n",
       "<style scoped>\n",
       "    .dataframe tbody tr th:only-of-type {\n",
       "        vertical-align: middle;\n",
       "    }\n",
       "\n",
       "    .dataframe tbody tr th {\n",
       "        vertical-align: top;\n",
       "    }\n",
       "\n",
       "    .dataframe thead th {\n",
       "        text-align: right;\n",
       "    }\n",
       "</style>\n",
       "<table border=\"1\" class=\"dataframe\">\n",
       "  <thead>\n",
       "    <tr style=\"text-align: right;\">\n",
       "      <th></th>\n",
       "      <th>user_id</th>\n",
       "      <th>Trigger Device</th>\n",
       "      <th>Trigger Device ID</th>\n",
       "      <th>Action Device</th>\n",
       "      <th>Action Device ID</th>\n",
       "      <th>Trigger State</th>\n",
       "      <th>Trigger State ID</th>\n",
       "      <th>Action</th>\n",
       "      <th>Action ID</th>\n",
       "      <th>Rule</th>\n",
       "    </tr>\n",
       "  </thead>\n",
       "  <tbody>\n",
       "    <tr>\n",
       "      <th>0</th>\n",
       "      <td>20017</td>\n",
       "      <td>ContactSensor</td>\n",
       "      <td>977316</td>\n",
       "      <td>MotionSensor</td>\n",
       "      <td>1407198</td>\n",
       "      <td>Detects motion</td>\n",
       "      <td>9</td>\n",
       "      <td>Upload a short video to the cloud</td>\n",
       "      <td>46</td>\n",
       "      <td>977316_9_46_1407198</td>\n",
       "    </tr>\n",
       "    <tr>\n",
       "      <th>1</th>\n",
       "      <td>20017</td>\n",
       "      <td>ContactSensor</td>\n",
       "      <td>977316</td>\n",
       "      <td>MotionSensor</td>\n",
       "      <td>1407198</td>\n",
       "      <td>Detects motion</td>\n",
       "      <td>9</td>\n",
       "      <td>Turn on notifications</td>\n",
       "      <td>38</td>\n",
       "      <td>977316_9_38_1407198</td>\n",
       "    </tr>\n",
       "    <tr>\n",
       "      <th>2</th>\n",
       "      <td>20017</td>\n",
       "      <td>ContactSensor</td>\n",
       "      <td>977316</td>\n",
       "      <td>MotionSensor</td>\n",
       "      <td>1407198</td>\n",
       "      <td>Detects motion</td>\n",
       "      <td>9</td>\n",
       "      <td>Turn on motion detection</td>\n",
       "      <td>37</td>\n",
       "      <td>977316_9_37_1407198</td>\n",
       "    </tr>\n",
       "    <tr>\n",
       "      <th>3</th>\n",
       "      <td>20017</td>\n",
       "      <td>ContactSensor</td>\n",
       "      <td>977316</td>\n",
       "      <td>MotionSensor</td>\n",
       "      <td>1407198</td>\n",
       "      <td>Detects motion</td>\n",
       "      <td>9</td>\n",
       "      <td>Turn on the siren</td>\n",
       "      <td>42</td>\n",
       "      <td>977316_9_42_1407198</td>\n",
       "    </tr>\n",
       "    <tr>\n",
       "      <th>4</th>\n",
       "      <td>20017</td>\n",
       "      <td>ContactSensor</td>\n",
       "      <td>977316</td>\n",
       "      <td>MotionSensor</td>\n",
       "      <td>1407198</td>\n",
       "      <td>Detects a person</td>\n",
       "      <td>6</td>\n",
       "      <td>Turn on notifications</td>\n",
       "      <td>38</td>\n",
       "      <td>977316_6_38_1407198</td>\n",
       "    </tr>\n",
       "  </tbody>\n",
       "</table>\n",
       "</div>"
      ],
      "text/plain": [
       "   user_id Trigger Device  Trigger Device ID Action Device  Action Device ID  \\\n",
       "0    20017  ContactSensor             977316  MotionSensor           1407198   \n",
       "1    20017  ContactSensor             977316  MotionSensor           1407198   \n",
       "2    20017  ContactSensor             977316  MotionSensor           1407198   \n",
       "3    20017  ContactSensor             977316  MotionSensor           1407198   \n",
       "4    20017  ContactSensor             977316  MotionSensor           1407198   \n",
       "\n",
       "      Trigger State  Trigger State ID                             Action  \\\n",
       "0    Detects motion                 9  Upload a short video to the cloud   \n",
       "1    Detects motion                 9              Turn on notifications   \n",
       "2    Detects motion                 9           Turn on motion detection   \n",
       "3    Detects motion                 9                  Turn on the siren   \n",
       "4  Detects a person                 6              Turn on notifications   \n",
       "\n",
       "   Action ID                 Rule  \n",
       "0         46  977316_9_46_1407198  \n",
       "1         38  977316_9_38_1407198  \n",
       "2         37  977316_9_37_1407198  \n",
       "3         42  977316_9_42_1407198  \n",
       "4         38  977316_6_38_1407198  "
      ]
     },
     "execution_count": 3,
     "metadata": {},
     "output_type": "execute_result"
    }
   ],
   "source": [
    "output= pd.read_csv('output/inf_output.csv')\n",
    "output.head()"
   ]
  },
  {
   "cell_type": "markdown",
   "id": "ae1bca1a",
   "metadata": {},
   "source": [
    "### 5. Clean-up"
   ]
  },
  {
   "cell_type": "code",
   "execution_count": null,
   "id": "49b7d8c1",
   "metadata": {},
   "outputs": [],
   "source": [
    "predictor.delete_endpoint(delete_endpoint_config=True)"
   ]
  },
  {
   "cell_type": "markdown",
   "id": "76c61993",
   "metadata": {},
   "source": [
    "#### Unsubscribe to the listing (optional)"
   ]
  },
  {
   "cell_type": "markdown",
   "id": "ca58a8f7",
   "metadata": {},
   "source": [
    "If you would like to unsubscribe to the algorithm, follow these steps. Before you cancel the subscription, ensure that you do not have any [deployable model](https://us-east-2.console.aws.amazon.com/sagemaker/home?region=us-east-2#/models) created from the model package or using the algorithm. Note - You can find this information by looking at the container name associated with the model."
   ]
  },
  {
   "cell_type": "markdown",
   "id": "08bc00da",
   "metadata": {},
   "source": [
    "#### Steps to unsubscribe to product from AWS Marketplace:"
   ]
  },
  {
   "cell_type": "markdown",
   "id": "86f8e411",
   "metadata": {},
   "source": [
    "&nbsp; 1. Navigate to **Machine Learning tab** on **Your Software subscriptions page**.  \n",
    "&nbsp; 2. Locate the listing that you want to cancel the subscription for, and then choose **Cancel Subscription** to cancel the subscription."
   ]
  }
 ],
 "metadata": {
  "kernelspec": {
   "display_name": "conda_python3",
   "language": "python",
   "name": "conda_python3"
  },
  "language_info": {
   "codemirror_mode": {
    "name": "ipython",
    "version": 3
   },
   "file_extension": ".py",
   "mimetype": "text/x-python",
   "name": "python",
   "nbconvert_exporter": "python",
   "pygments_lexer": "ipython3",
   "version": "3.10.14"
  }
 },
 "nbformat": 4,
 "nbformat_minor": 5
}
